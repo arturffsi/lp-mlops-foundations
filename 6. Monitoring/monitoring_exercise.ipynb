{
 "cells": [
  {
   "cell_type": "markdown",
   "id": "c3c8a5be",
   "metadata": {},
   "source": [
    "# Week 6 — Continuous Monitoring & Retraining Triggers"
   ]
  },
  {
   "cell_type": "markdown",
   "id": "c67cf047",
   "metadata": {},
   "source": [
    "**Learning Objectives (Week 6 – Continuous Monitoring)**  \n",
    "- Monitor data & model drift, latency, and health.  \n",
    "- Automate triggers for retraining or rollback.  \n",
    "- Log predictions responsibly and respect privacy/security."
   ]
  },
  {
   "cell_type": "markdown",
   "id": "e255e4e3",
   "metadata": {},
   "source": [
    "## Exercises\n",
    "1. Implement basic drift checks (statistical distance) with a baseline window.  \n",
    "2. Capture online metrics (latency, error rates) and create alerts.  \n",
    "3. Emit monitoring reports to storage and optionally MLflow.  \n",
    "4. Propose a retraining trigger and document it."
   ]
  },
  {
   "cell_type": "markdown",
   "id": "ea14bc8c",
   "metadata": {},
   "source": [
    "## Peer Validation\n",
    "- **Peer Review Checklist:**  \n",
    "  - Clear monitoring metrics and thresholds.  \n",
    "  - Alert/trigger defined and testable.  \n",
    "  - Privacy considerations addressed."
   ]
  },
  {
   "cell_type": "code",
   "execution_count": null,
   "id": "b67a513c",
   "metadata": {},
   "outputs": [],
   "source": [
    "# %pip install pandas numpy scipy --quiet\n",
    "import os, json, numpy as np, pandas as pd\n",
    "from scipy.spatial.distance import jensenshannon\n",
    "\n",
    "os.makedirs(\"artifacts/week6\", exist_ok=True)\n",
    "\n",
    "# Baseline and production-like samples (illustrative)\n",
    "baseline = np.random.normal(0,1,10000)\n",
    "prod     = np.concatenate([np.random.normal(0.2,1,9000), np.random.normal(2.5,0.5,1000)])\n",
    "\n",
    "# Simple distribution comparison: Jensen-Shannon distance on histogram bins\n",
    "bins = np.histogram_bin_edges(baseline, bins=30)\n",
    "p,_ = np.histogram(baseline, bins=bins, density=True)\n",
    "q,_ = np.histogram(prod, bins=bins, density=True)\n",
    "p = p / (p.sum() + 1e-12)\n",
    "q = q / (q.sum() + 1e-12)\n",
    "jsd = float(jensenshannon(p, q))\n",
    "\n",
    "report = {\"metric\":\"js_distance\", \"value\": jsd, \"threshold\": 0.1, \"alert\": jsd > 0.1}\n",
    "with open(\"artifacts/week6/monitoring_report.json\",\"w\") as f:\n",
    "    json.dump(report, f, indent=2)\n",
    "\n",
    "report"
   ]
  },
  {
   "cell_type": "code",
   "execution_count": null,
   "id": "b75883ec",
   "metadata": {},
   "outputs": [],
   "source": [
    "# Example: simple trigger (pseudo) for retraining\n",
    "THRESHOLD = 0.1\n",
    "if report[\"alert\"]:\n",
    "    print(\"Drift detected. Recommend: launch retraining pipeline.\")\n",
    "else:\n",
    "    print(\"No drift alert. Continue monitoring.\")"
   ]
  }
 ],
 "metadata": {
  "kernelspec": {
   "display_name": "Python 3",
   "language": "python",
   "name": "python3"
  },
  "language_info": {
   "name": "python",
   "version": "3.x"
  }
 },
 "nbformat": 4,
 "nbformat_minor": 5
}
