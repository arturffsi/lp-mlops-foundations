{
 "cells": [
  {
   "cell_type": "markdown",
   "id": "10c4aca6",
   "metadata": {},
   "source": [
    "# 📊 Week 1 — Exploratory Data Analysis (EDA): Reading Guide\n",
    "\n",
    "**Learning Objectives (Week 1 – EDA)**  \n",
    "- Understand the motivation for MLOps and how EDA fits into a production ML lifecycle.  \n",
    "- Connect to Redshift and perform reproducible EDA.  \n",
    "- Document data quality issues and define target/feature schema.  \n",
    "- Prepare train/validation/test splits with leakage-aware methodology.  \n",
    "\n",
    "> **Context**: ZAP is targeting **MLOps Level 2**. Even EDA should be reproducible and versioned (data query, sampling, and preprocessing code committed).\n",
    "\n",
    "## 🔍 What is EDA and Why It Matters\n",
    "Exploratory Data Analysis (EDA) is the process of **exploring, visualizing, and validating datasets** before training models.  \n",
    "In **MLOps**, EDA is about much more than plots — it’s about **data reliability** and ensuring downstream pipelines are stable.\n",
    "\n",
    "**Why it matters for production:**\n",
    "- 🗑️ **Garbage in, garbage out** → poor data = poor models.  \n",
    "- ⚡ **Operational resilience** → detect defects early, before they hit production.  \n",
    "- 🔁 **Pipeline reliability** → schemas and checks from EDA become the foundation for automation.  \n",
    "\n",
    "\n",
    "## 📐 Data Quality Dimensions\n",
    "Checking data quality ensures your model won’t collapse when facing real-world inputs. Here are the key dimensions:\n",
    "\n",
    "| Dimension    | Question to Ask | Example Issue |\n",
    "|--------------|-----------------|---------------|\n",
    "| ✅ Completeness | Are required values present? | Missing customer age |\n",
    "| 🔄 Consistency | Do values follow expected formats/relations? | Country code \"PT\" inconsistently mapped |\n",
    "| 🎯 Accuracy | Are values correct? | Negative product price |\n",
    "| 🧩 Validity | Do values conform to rules/types? | Dates stored as free-text |\n",
    "| ⏱️ Timeliness | Is the data up to date? | Using last year’s sales for today’s forecast |\n",
    "\n",
    "\n",
    "## ⚠️ Leakage and Target Contamination\n",
    "- **Data leakage** → using information not available at prediction time.  \n",
    "- **Target contamination** → when the target leaks into features or data splits.  \n",
    "\n",
    "❌ Example leakage: Using \"credit approval status\" as a feature to predict loan approval.  \n",
    "❌ Example contamination: Randomly splitting time-series data, letting future events “leak” into training.\n",
    "\n",
    "➡️ Both lead to inflated metrics **during training** and catastrophic failures **in production**.\n",
    "\n",
    "\n",
    "## ♻️ Reproducibility\n",
    "Reproducibility = **same results given same inputs**. Essential for trust, debugging, and collaboration.\n",
    "\n",
    "Key practices:\n",
    "- 🎲 **Fixed seeds** → ensure reproducible sampling/splitting.  \n",
    "- 📑 **Deterministic queries** → e.g., always `ORDER BY id` in SQL.  \n",
    "- 🖥️ **Environment capture** → record Python & library versions, OS, hardware.  \n",
    "\n",
    "Without reproducibility → experiments can’t be compared, bugs can’t be traced.\n",
    "\n",
    "\n",
    "## 📦 Outputs That Feed the Pipeline\n",
    "EDA is not a one-off. Its **outputs become artifacts** for the ML pipeline:\n",
    "\n",
    "- 🗂️ **Feature schema** → defines types, ranges, categories, nullability.  \n",
    "- ✅ **Data checks** → rules like “no nulls in IDs” or “target is binary.”  \n",
    "- ✂️ **Split strategy** → deterministic, leakage-free train/val/test partitions.  \n",
    "\n",
    "These artifacts support:\n",
    "- Automation in CI/CD ✅  \n",
    "- Monitoring in production 📈  \n",
    "- MLOps Level 2 maturity ⚙️  \n",
    "\n",
    "---"
   ]
  },
  {
   "cell_type": "markdown",
   "id": "00348880",
   "metadata": {},
   "source": [
    "# 📝 Exercises - Build the Dataset\n",
    "\n",
    "You should choose any dataset existing on Redshift to practice EDA, and gather relevant information to train your model.  \n",
    "Dataset example should contain customer demographics, services, account info, etc.\n",
    "\n",
    "## Import needed libraries"
   ]
  },
  {
   "cell_type": "code",
   "execution_count": 1,
   "id": "3b3ec99c",
   "metadata": {},
   "outputs": [],
   "source": [
    "import pandas as pd\n",
    "import numpy as np\n",
    "import plotly.express as px\n",
    "import seaborn as sns\n",
    "import matplotlib.pyplot as plt\n",
    "%matplotlib inline\n",
    "\n",
    "w = 800"
   ]
  },
  {
   "cell_type": "markdown",
   "id": "d86fc67e",
   "metadata": {},
   "source": [
    "## 🔧 Setup\n",
    "Use the function `load_data()` provided in file `data_io.py` snippet to create a dataset from `parquet` on S3 bucket or directly from `redshift`"
   ]
  },
  {
   "cell_type": "code",
   "execution_count": 2,
   "id": "a6a0a7e7",
   "metadata": {},
   "outputs": [
    {
     "name": "stderr",
     "output_type": "stream",
     "text": [
      "/var/folders/3d/dh5fxyvd55sbf5r8pv3bfclw0000gq/T/ipykernel_19126/2436523170.py:9: FutureWarning: errors='ignore' is deprecated and will raise in a future version. Use to_numeric without passing `errors` and catch exceptions explicitly instead\n",
      "  df[col] = pd.to_numeric(df[col], errors='ignore')\n",
      "/var/folders/3d/dh5fxyvd55sbf5r8pv3bfclw0000gq/T/ipykernel_19126/2436523170.py:9: FutureWarning: errors='ignore' is deprecated and will raise in a future version. Use to_numeric without passing `errors` and catch exceptions explicitly instead\n",
      "  df[col] = pd.to_numeric(df[col], errors='ignore')\n"
     ]
    }
   ],
   "source": [
    "df = pd.read_parquet('../sample_data_from_redshift/sample.parquet')\n",
    "\n",
    "dates = ['iddim_date_inicio', 'iddim_date_fim']\n",
    "\n",
    "for col in df.columns:\n",
    "    if col in dates:\n",
    "        df[col] = pd.to_datetime(df[col], errors='coerce')\n",
    "    else:\n",
    "        df[col] = pd.to_numeric(df[col], errors='ignore')"
   ]
  },
  {
   "cell_type": "markdown",
   "id": "953585ae",
   "metadata": {},
   "source": [
    "## 1. Data Overview & Metadata\n",
    "Inspect the dataset:\n",
    "- Number of rows and columns.  \n",
    "- Data types of each column.  \n",
    "- Identify categorical, numerical, and target.  "
   ]
  },
  {
   "cell_type": "code",
   "execution_count": 3,
   "id": "cad0401b",
   "metadata": {},
   "outputs": [
    {
     "name": "stdout",
     "output_type": "stream",
     "text": [
      "Number of rows: 100000\n",
      "Number of columns: 58\n"
     ]
    }
   ],
   "source": [
    "# number of rows and columns\n",
    "\n",
    "print(f\"Number of rows: {df.shape[0]}\")\n",
    "print(f\"Number of columns: {df.shape[1]}\")"
   ]
  },
  {
   "cell_type": "code",
   "execution_count": 4,
   "id": "47bb3168",
   "metadata": {},
   "outputs": [
    {
     "data": {
      "text/html": [
       "<div>\n",
       "<style scoped>\n",
       "    .dataframe tbody tr th:only-of-type {\n",
       "        vertical-align: middle;\n",
       "    }\n",
       "\n",
       "    .dataframe tbody tr th {\n",
       "        vertical-align: top;\n",
       "    }\n",
       "\n",
       "    .dataframe thead th {\n",
       "        text-align: right;\n",
       "    }\n",
       "</style>\n",
       "<table border=\"1\" class=\"dataframe\">\n",
       "  <thead>\n",
       "    <tr style=\"text-align: right;\">\n",
       "      <th></th>\n",
       "      <th>0</th>\n",
       "    </tr>\n",
       "  </thead>\n",
       "  <tbody>\n",
       "    <tr>\n",
       "      <th>idconsumo</th>\n",
       "      <td>int32</td>\n",
       "    </tr>\n",
       "    <tr>\n",
       "      <th>id_contaservico</th>\n",
       "      <td>int32</td>\n",
       "    </tr>\n",
       "    <tr>\n",
       "      <th>codigocontaservico</th>\n",
       "      <td>int64</td>\n",
       "    </tr>\n",
       "    <tr>\n",
       "      <th>idconta</th>\n",
       "      <td>int32</td>\n",
       "    </tr>\n",
       "    <tr>\n",
       "      <th>iddim_date_inicio</th>\n",
       "      <td>datetime64[us]</td>\n",
       "    </tr>\n",
       "    <tr>\n",
       "      <th>iddim_date_fim</th>\n",
       "      <td>datetime64[us]</td>\n",
       "    </tr>\n",
       "    <tr>\n",
       "      <th>id_produto_actual</th>\n",
       "      <td>int32</td>\n",
       "    </tr>\n",
       "    <tr>\n",
       "      <th>tipo_produto_actual</th>\n",
       "      <td>object</td>\n",
       "    </tr>\n",
       "    <tr>\n",
       "      <th>tipo_subscricao</th>\n",
       "      <td>int16</td>\n",
       "    </tr>\n",
       "    <tr>\n",
       "      <th>tipo_stb</th>\n",
       "      <td>object</td>\n",
       "    </tr>\n",
       "    <tr>\n",
       "      <th>n_dias_subscricao</th>\n",
       "      <td>int32</td>\n",
       "    </tr>\n",
       "    <tr>\n",
       "      <th>n_dias_expirado</th>\n",
       "      <td>int32</td>\n",
       "    </tr>\n",
       "    <tr>\n",
       "      <th>contract_number</th>\n",
       "      <td>int64</td>\n",
       "    </tr>\n",
       "    <tr>\n",
       "      <th>contract_len_days</th>\n",
       "      <td>int32</td>\n",
       "    </tr>\n",
       "    <tr>\n",
       "      <th>tenure_days</th>\n",
       "      <td>int32</td>\n",
       "    </tr>\n",
       "    <tr>\n",
       "      <th>gap_since_prev_expiry</th>\n",
       "      <td>Int32</td>\n",
       "    </tr>\n",
       "    <tr>\n",
       "      <th>mean_len_prev</th>\n",
       "      <td>Int64</td>\n",
       "    </tr>\n",
       "    <tr>\n",
       "      <th>std_len_prev</th>\n",
       "      <td>float64</td>\n",
       "    </tr>\n",
       "    <tr>\n",
       "      <th>n_prev_contracts</th>\n",
       "      <td>int64</td>\n",
       "    </tr>\n",
       "    <tr>\n",
       "      <th>expiry_month</th>\n",
       "      <td>int32</td>\n",
       "    </tr>\n",
       "    <tr>\n",
       "      <th>expiry_dow</th>\n",
       "      <td>int32</td>\n",
       "    </tr>\n",
       "    <tr>\n",
       "      <th>tenure_bucket</th>\n",
       "      <td>object</td>\n",
       "    </tr>\n",
       "    <tr>\n",
       "      <th>churn</th>\n",
       "      <td>int16</td>\n",
       "    </tr>\n",
       "    <tr>\n",
       "      <th>past_churns</th>\n",
       "      <td>int16</td>\n",
       "    </tr>\n",
       "    <tr>\n",
       "      <th>iddim_cliente</th>\n",
       "      <td>Int32</td>\n",
       "    </tr>\n",
       "    <tr>\n",
       "      <th>idcliente</th>\n",
       "      <td>Int32</td>\n",
       "    </tr>\n",
       "    <tr>\n",
       "      <th>codigocliente</th>\n",
       "      <td>float64</td>\n",
       "    </tr>\n",
       "    <tr>\n",
       "      <th>provincia</th>\n",
       "      <td>object</td>\n",
       "    </tr>\n",
       "    <tr>\n",
       "      <th>municipio</th>\n",
       "      <td>object</td>\n",
       "    </tr>\n",
       "    <tr>\n",
       "      <th>age</th>\n",
       "      <td>float64</td>\n",
       "    </tr>\n",
       "    <tr>\n",
       "      <th>age_missing</th>\n",
       "      <td>Int16</td>\n",
       "    </tr>\n",
       "    <tr>\n",
       "      <th>sexo</th>\n",
       "      <td>object</td>\n",
       "    </tr>\n",
       "    <tr>\n",
       "      <th>estado_civil</th>\n",
       "      <td>object</td>\n",
       "    </tr>\n",
       "    <tr>\n",
       "      <th>account_age_d_cliente</th>\n",
       "      <td>Int32</td>\n",
       "    </tr>\n",
       "    <tr>\n",
       "      <th>days_since_last_update_cliente</th>\n",
       "      <td>Int32</td>\n",
       "    </tr>\n",
       "    <tr>\n",
       "      <th>iddim_conta</th>\n",
       "      <td>Int32</td>\n",
       "    </tr>\n",
       "    <tr>\n",
       "      <th>codigoconta</th>\n",
       "      <td>float64</td>\n",
       "    </tr>\n",
       "    <tr>\n",
       "      <th>idgrupo_dim_contadimensao</th>\n",
       "      <td>Int32</td>\n",
       "    </tr>\n",
       "    <tr>\n",
       "      <th>tipoconta</th>\n",
       "      <td>object</td>\n",
       "    </tr>\n",
       "    <tr>\n",
       "      <th>tecnologia</th>\n",
       "      <td>object</td>\n",
       "    </tr>\n",
       "    <tr>\n",
       "      <th>account_age_d_conta</th>\n",
       "      <td>Int32</td>\n",
       "    </tr>\n",
       "    <tr>\n",
       "      <th>iddim_contaservico_dth</th>\n",
       "      <td>Int32</td>\n",
       "    </tr>\n",
       "    <tr>\n",
       "      <th>account_age_d_contaservico</th>\n",
       "      <td>Int32</td>\n",
       "    </tr>\n",
       "    <tr>\n",
       "      <th>n_contacts</th>\n",
       "      <td>int64</td>\n",
       "    </tr>\n",
       "    <tr>\n",
       "      <th>last_contact_ts</th>\n",
       "      <td>int64</td>\n",
       "    </tr>\n",
       "    <tr>\n",
       "      <th>n_successful_contacts</th>\n",
       "      <td>int64</td>\n",
       "    </tr>\n",
       "    <tr>\n",
       "      <th>any_success</th>\n",
       "      <td>int16</td>\n",
       "    </tr>\n",
       "    <tr>\n",
       "      <th>days_since_last_contact</th>\n",
       "      <td>Int32</td>\n",
       "    </tr>\n",
       "    <tr>\n",
       "      <th>was_contacted</th>\n",
       "      <td>int16</td>\n",
       "    </tr>\n",
       "    <tr>\n",
       "      <th>topup_count</th>\n",
       "      <td>int64</td>\n",
       "    </tr>\n",
       "    <tr>\n",
       "      <th>topup_total_value</th>\n",
       "      <td>float64</td>\n",
       "    </tr>\n",
       "    <tr>\n",
       "      <th>topup_avg_value</th>\n",
       "      <td>float64</td>\n",
       "    </tr>\n",
       "    <tr>\n",
       "      <th>topup_std_value</th>\n",
       "      <td>float64</td>\n",
       "    </tr>\n",
       "    <tr>\n",
       "      <th>topup_cv_value</th>\n",
       "      <td>float64</td>\n",
       "    </tr>\n",
       "    <tr>\n",
       "      <th>topup_days_since_last</th>\n",
       "      <td>Int32</td>\n",
       "    </tr>\n",
       "    <tr>\n",
       "      <th>used_selfcare</th>\n",
       "      <td>int32</td>\n",
       "    </tr>\n",
       "    <tr>\n",
       "      <th>topup_type_nunique</th>\n",
       "      <td>int64</td>\n",
       "    </tr>\n",
       "    <tr>\n",
       "      <th>topup_channel_nunique</th>\n",
       "      <td>int64</td>\n",
       "    </tr>\n",
       "  </tbody>\n",
       "</table>\n",
       "</div>"
      ],
      "text/plain": [
       "                                             0\n",
       "idconsumo                                int32\n",
       "id_contaservico                          int32\n",
       "codigocontaservico                       int64\n",
       "idconta                                  int32\n",
       "iddim_date_inicio               datetime64[us]\n",
       "iddim_date_fim                  datetime64[us]\n",
       "id_produto_actual                        int32\n",
       "tipo_produto_actual                     object\n",
       "tipo_subscricao                          int16\n",
       "tipo_stb                                object\n",
       "n_dias_subscricao                        int32\n",
       "n_dias_expirado                          int32\n",
       "contract_number                          int64\n",
       "contract_len_days                        int32\n",
       "tenure_days                              int32\n",
       "gap_since_prev_expiry                    Int32\n",
       "mean_len_prev                            Int64\n",
       "std_len_prev                           float64\n",
       "n_prev_contracts                         int64\n",
       "expiry_month                             int32\n",
       "expiry_dow                               int32\n",
       "tenure_bucket                           object\n",
       "churn                                    int16\n",
       "past_churns                              int16\n",
       "iddim_cliente                            Int32\n",
       "idcliente                                Int32\n",
       "codigocliente                          float64\n",
       "provincia                               object\n",
       "municipio                               object\n",
       "age                                    float64\n",
       "age_missing                              Int16\n",
       "sexo                                    object\n",
       "estado_civil                            object\n",
       "account_age_d_cliente                    Int32\n",
       "days_since_last_update_cliente           Int32\n",
       "iddim_conta                              Int32\n",
       "codigoconta                            float64\n",
       "idgrupo_dim_contadimensao                Int32\n",
       "tipoconta                               object\n",
       "tecnologia                              object\n",
       "account_age_d_conta                      Int32\n",
       "iddim_contaservico_dth                   Int32\n",
       "account_age_d_contaservico               Int32\n",
       "n_contacts                               int64\n",
       "last_contact_ts                          int64\n",
       "n_successful_contacts                    int64\n",
       "any_success                              int16\n",
       "days_since_last_contact                  Int32\n",
       "was_contacted                            int16\n",
       "topup_count                              int64\n",
       "topup_total_value                      float64\n",
       "topup_avg_value                        float64\n",
       "topup_std_value                        float64\n",
       "topup_cv_value                         float64\n",
       "topup_days_since_last                    Int32\n",
       "used_selfcare                            int32\n",
       "topup_type_nunique                       int64\n",
       "topup_channel_nunique                    int64"
      ]
     },
     "metadata": {},
     "output_type": "display_data"
    }
   ],
   "source": [
    "display(pd.DataFrame(df.dtypes))"
   ]
  },
  {
   "cell_type": "markdown",
   "id": "a32d4f1b",
   "metadata": {},
   "source": [
    "## 2. Data Quality Checks\n",
    "After identifying the tables you want to work on, a crucial step is to analyze their Data Quality using the following dimensions.\n",
    "Check the **5 quality dimensions** on this dataset:\n",
    "\n",
    "| Dimension    | Task |\n",
    "|--------------|------|\n",
    "| ✅ Completeness | Count missing/null values in each column. |\n",
    "| 🔄 Consistency | Look for inconsistent categories (e.g., “Male” vs. “male”). |\n",
    "| 🎯 Accuracy | Spot anomalies (e.g., negative charges). |\n",
    "| 🧩 Validity | Ensure logics are met. Ex: `TotalProfit ≈ n_units × unitary_profit`. |\n",
    "| ⏱️ Timeliness | Discuss whether tenure captures freshness of data. |"
   ]
  },
  {
   "cell_type": "code",
   "execution_count": 5,
   "id": "66567d2b",
   "metadata": {},
   "outputs": [
    {
     "data": {
      "text/plain": [
       "idconsumo                             0\n",
       "id_contaservico                       0\n",
       "codigocontaservico                    0\n",
       "idconta                               0\n",
       "iddim_date_inicio                     0\n",
       "iddim_date_fim                        0\n",
       "id_produto_actual                     0\n",
       "tipo_produto_actual                   0\n",
       "tipo_subscricao                       0\n",
       "tipo_stb                             21\n",
       "n_dias_subscricao                     0\n",
       "n_dias_expirado                       0\n",
       "contract_number                       0\n",
       "contract_len_days                     0\n",
       "tenure_days                           0\n",
       "gap_since_prev_expiry              3751\n",
       "mean_len_prev                      7229\n",
       "std_len_prev                      10721\n",
       "n_prev_contracts                      0\n",
       "expiry_month                          0\n",
       "expiry_dow                            0\n",
       "tenure_bucket                         0\n",
       "churn                                 0\n",
       "past_churns                           0\n",
       "iddim_cliente                        80\n",
       "idcliente                            80\n",
       "codigocliente                        80\n",
       "provincia                            80\n",
       "municipio                            80\n",
       "age                               66524\n",
       "age_missing                          80\n",
       "sexo                                 90\n",
       "estado_civil                         90\n",
       "account_age_d_cliente                80\n",
       "days_since_last_update_cliente     6102\n",
       "iddim_conta                          80\n",
       "codigoconta                          80\n",
       "idgrupo_dim_contadimensao           848\n",
       "tipoconta                            80\n",
       "tecnologia                           80\n",
       "account_age_d_conta                  80\n",
       "iddim_contaservico_dth               80\n",
       "account_age_d_contaservico           80\n",
       "n_contacts                            0\n",
       "last_contact_ts                       0\n",
       "n_successful_contacts                 0\n",
       "any_success                           0\n",
       "days_since_last_contact           99373\n",
       "was_contacted                         0\n",
       "topup_count                           0\n",
       "topup_total_value                     0\n",
       "topup_avg_value                     196\n",
       "topup_std_value                    1012\n",
       "topup_cv_value                      778\n",
       "topup_days_since_last               196\n",
       "used_selfcare                         0\n",
       "topup_type_nunique                    0\n",
       "topup_channel_nunique                 0\n",
       "dtype: int64"
      ]
     },
     "metadata": {},
     "output_type": "display_data"
    }
   ],
   "source": [
    "display(df.isna().sum())"
   ]
  },
  {
   "cell_type": "markdown",
   "id": "1660f917",
   "metadata": {},
   "source": [
    "## 3. Target Variable Exploration\n",
    "- Plot the distribution of target table.  \n",
    "- Discuss if the dataset is **imbalanced** and what that implies for modeling."
   ]
  },
  {
   "cell_type": "code",
   "execution_count": 6,
   "id": "109721e2",
   "metadata": {},
   "outputs": [
    {
     "name": "stdout",
     "output_type": "stream",
     "text": [
      "Churn Value Counts:\n",
      "churn\n",
      "0    70329\n",
      "1    29671\n",
      "Name: count, dtype: int64\n",
      "Churn Value Counts (percentage):\n",
      "churn\n",
      "0    0.70329\n",
      "1    0.29671\n",
      "Name: proportion, dtype: float64\n"
     ]
    },
    {
     "data": {
      "application/vnd.plotly.v1+json": {
       "config": {
        "plotlyServerURL": "https://plot.ly"
       },
       "data": [
        {
         "hovertemplate": "churn=%{x}<br>count=%{y}<extra></extra>",
         "legendgroup": "",
         "marker": {
          "color": "#636efa",
          "pattern": {
           "shape": ""
          }
         },
         "name": "",
         "orientation": "v",
         "showlegend": false,
         "textposition": "auto",
         "type": "bar",
         "x": {
          "bdata": "AAABAA==",
          "dtype": "i2"
         },
         "xaxis": "x",
         "y": {
          "bdata": "uRIBAOdzAAA=",
          "dtype": "i4"
         },
         "yaxis": "y"
        }
       ],
       "layout": {
        "barmode": "relative",
        "height": 533.3333333333334,
        "legend": {
         "tracegroupgap": 0
        },
        "template": {
         "data": {
          "bar": [
           {
            "error_x": {
             "color": "#2a3f5f"
            },
            "error_y": {
             "color": "#2a3f5f"
            },
            "marker": {
             "line": {
              "color": "#E5ECF6",
              "width": 0.5
             },
             "pattern": {
              "fillmode": "overlay",
              "size": 10,
              "solidity": 0.2
             }
            },
            "type": "bar"
           }
          ],
          "barpolar": [
           {
            "marker": {
             "line": {
              "color": "#E5ECF6",
              "width": 0.5
             },
             "pattern": {
              "fillmode": "overlay",
              "size": 10,
              "solidity": 0.2
             }
            },
            "type": "barpolar"
           }
          ],
          "carpet": [
           {
            "aaxis": {
             "endlinecolor": "#2a3f5f",
             "gridcolor": "white",
             "linecolor": "white",
             "minorgridcolor": "white",
             "startlinecolor": "#2a3f5f"
            },
            "baxis": {
             "endlinecolor": "#2a3f5f",
             "gridcolor": "white",
             "linecolor": "white",
             "minorgridcolor": "white",
             "startlinecolor": "#2a3f5f"
            },
            "type": "carpet"
           }
          ],
          "choropleth": [
           {
            "colorbar": {
             "outlinewidth": 0,
             "ticks": ""
            },
            "type": "choropleth"
           }
          ],
          "contour": [
           {
            "colorbar": {
             "outlinewidth": 0,
             "ticks": ""
            },
            "colorscale": [
             [
              0,
              "#0d0887"
             ],
             [
              0.1111111111111111,
              "#46039f"
             ],
             [
              0.2222222222222222,
              "#7201a8"
             ],
             [
              0.3333333333333333,
              "#9c179e"
             ],
             [
              0.4444444444444444,
              "#bd3786"
             ],
             [
              0.5555555555555556,
              "#d8576b"
             ],
             [
              0.6666666666666666,
              "#ed7953"
             ],
             [
              0.7777777777777778,
              "#fb9f3a"
             ],
             [
              0.8888888888888888,
              "#fdca26"
             ],
             [
              1,
              "#f0f921"
             ]
            ],
            "type": "contour"
           }
          ],
          "contourcarpet": [
           {
            "colorbar": {
             "outlinewidth": 0,
             "ticks": ""
            },
            "type": "contourcarpet"
           }
          ],
          "heatmap": [
           {
            "colorbar": {
             "outlinewidth": 0,
             "ticks": ""
            },
            "colorscale": [
             [
              0,
              "#0d0887"
             ],
             [
              0.1111111111111111,
              "#46039f"
             ],
             [
              0.2222222222222222,
              "#7201a8"
             ],
             [
              0.3333333333333333,
              "#9c179e"
             ],
             [
              0.4444444444444444,
              "#bd3786"
             ],
             [
              0.5555555555555556,
              "#d8576b"
             ],
             [
              0.6666666666666666,
              "#ed7953"
             ],
             [
              0.7777777777777778,
              "#fb9f3a"
             ],
             [
              0.8888888888888888,
              "#fdca26"
             ],
             [
              1,
              "#f0f921"
             ]
            ],
            "type": "heatmap"
           }
          ],
          "histogram": [
           {
            "marker": {
             "pattern": {
              "fillmode": "overlay",
              "size": 10,
              "solidity": 0.2
             }
            },
            "type": "histogram"
           }
          ],
          "histogram2d": [
           {
            "colorbar": {
             "outlinewidth": 0,
             "ticks": ""
            },
            "colorscale": [
             [
              0,
              "#0d0887"
             ],
             [
              0.1111111111111111,
              "#46039f"
             ],
             [
              0.2222222222222222,
              "#7201a8"
             ],
             [
              0.3333333333333333,
              "#9c179e"
             ],
             [
              0.4444444444444444,
              "#bd3786"
             ],
             [
              0.5555555555555556,
              "#d8576b"
             ],
             [
              0.6666666666666666,
              "#ed7953"
             ],
             [
              0.7777777777777778,
              "#fb9f3a"
             ],
             [
              0.8888888888888888,
              "#fdca26"
             ],
             [
              1,
              "#f0f921"
             ]
            ],
            "type": "histogram2d"
           }
          ],
          "histogram2dcontour": [
           {
            "colorbar": {
             "outlinewidth": 0,
             "ticks": ""
            },
            "colorscale": [
             [
              0,
              "#0d0887"
             ],
             [
              0.1111111111111111,
              "#46039f"
             ],
             [
              0.2222222222222222,
              "#7201a8"
             ],
             [
              0.3333333333333333,
              "#9c179e"
             ],
             [
              0.4444444444444444,
              "#bd3786"
             ],
             [
              0.5555555555555556,
              "#d8576b"
             ],
             [
              0.6666666666666666,
              "#ed7953"
             ],
             [
              0.7777777777777778,
              "#fb9f3a"
             ],
             [
              0.8888888888888888,
              "#fdca26"
             ],
             [
              1,
              "#f0f921"
             ]
            ],
            "type": "histogram2dcontour"
           }
          ],
          "mesh3d": [
           {
            "colorbar": {
             "outlinewidth": 0,
             "ticks": ""
            },
            "type": "mesh3d"
           }
          ],
          "parcoords": [
           {
            "line": {
             "colorbar": {
              "outlinewidth": 0,
              "ticks": ""
             }
            },
            "type": "parcoords"
           }
          ],
          "pie": [
           {
            "automargin": true,
            "type": "pie"
           }
          ],
          "scatter": [
           {
            "fillpattern": {
             "fillmode": "overlay",
             "size": 10,
             "solidity": 0.2
            },
            "type": "scatter"
           }
          ],
          "scatter3d": [
           {
            "line": {
             "colorbar": {
              "outlinewidth": 0,
              "ticks": ""
             }
            },
            "marker": {
             "colorbar": {
              "outlinewidth": 0,
              "ticks": ""
             }
            },
            "type": "scatter3d"
           }
          ],
          "scattercarpet": [
           {
            "marker": {
             "colorbar": {
              "outlinewidth": 0,
              "ticks": ""
             }
            },
            "type": "scattercarpet"
           }
          ],
          "scattergeo": [
           {
            "marker": {
             "colorbar": {
              "outlinewidth": 0,
              "ticks": ""
             }
            },
            "type": "scattergeo"
           }
          ],
          "scattergl": [
           {
            "marker": {
             "colorbar": {
              "outlinewidth": 0,
              "ticks": ""
             }
            },
            "type": "scattergl"
           }
          ],
          "scattermap": [
           {
            "marker": {
             "colorbar": {
              "outlinewidth": 0,
              "ticks": ""
             }
            },
            "type": "scattermap"
           }
          ],
          "scattermapbox": [
           {
            "marker": {
             "colorbar": {
              "outlinewidth": 0,
              "ticks": ""
             }
            },
            "type": "scattermapbox"
           }
          ],
          "scatterpolar": [
           {
            "marker": {
             "colorbar": {
              "outlinewidth": 0,
              "ticks": ""
             }
            },
            "type": "scatterpolar"
           }
          ],
          "scatterpolargl": [
           {
            "marker": {
             "colorbar": {
              "outlinewidth": 0,
              "ticks": ""
             }
            },
            "type": "scatterpolargl"
           }
          ],
          "scatterternary": [
           {
            "marker": {
             "colorbar": {
              "outlinewidth": 0,
              "ticks": ""
             }
            },
            "type": "scatterternary"
           }
          ],
          "surface": [
           {
            "colorbar": {
             "outlinewidth": 0,
             "ticks": ""
            },
            "colorscale": [
             [
              0,
              "#0d0887"
             ],
             [
              0.1111111111111111,
              "#46039f"
             ],
             [
              0.2222222222222222,
              "#7201a8"
             ],
             [
              0.3333333333333333,
              "#9c179e"
             ],
             [
              0.4444444444444444,
              "#bd3786"
             ],
             [
              0.5555555555555556,
              "#d8576b"
             ],
             [
              0.6666666666666666,
              "#ed7953"
             ],
             [
              0.7777777777777778,
              "#fb9f3a"
             ],
             [
              0.8888888888888888,
              "#fdca26"
             ],
             [
              1,
              "#f0f921"
             ]
            ],
            "type": "surface"
           }
          ],
          "table": [
           {
            "cells": {
             "fill": {
              "color": "#EBF0F8"
             },
             "line": {
              "color": "white"
             }
            },
            "header": {
             "fill": {
              "color": "#C8D4E3"
             },
             "line": {
              "color": "white"
             }
            },
            "type": "table"
           }
          ]
         },
         "layout": {
          "annotationdefaults": {
           "arrowcolor": "#2a3f5f",
           "arrowhead": 0,
           "arrowwidth": 1
          },
          "autotypenumbers": "strict",
          "coloraxis": {
           "colorbar": {
            "outlinewidth": 0,
            "ticks": ""
           }
          },
          "colorscale": {
           "diverging": [
            [
             0,
             "#8e0152"
            ],
            [
             0.1,
             "#c51b7d"
            ],
            [
             0.2,
             "#de77ae"
            ],
            [
             0.3,
             "#f1b6da"
            ],
            [
             0.4,
             "#fde0ef"
            ],
            [
             0.5,
             "#f7f7f7"
            ],
            [
             0.6,
             "#e6f5d0"
            ],
            [
             0.7,
             "#b8e186"
            ],
            [
             0.8,
             "#7fbc41"
            ],
            [
             0.9,
             "#4d9221"
            ],
            [
             1,
             "#276419"
            ]
           ],
           "sequential": [
            [
             0,
             "#0d0887"
            ],
            [
             0.1111111111111111,
             "#46039f"
            ],
            [
             0.2222222222222222,
             "#7201a8"
            ],
            [
             0.3333333333333333,
             "#9c179e"
            ],
            [
             0.4444444444444444,
             "#bd3786"
            ],
            [
             0.5555555555555556,
             "#d8576b"
            ],
            [
             0.6666666666666666,
             "#ed7953"
            ],
            [
             0.7777777777777778,
             "#fb9f3a"
            ],
            [
             0.8888888888888888,
             "#fdca26"
            ],
            [
             1,
             "#f0f921"
            ]
           ],
           "sequentialminus": [
            [
             0,
             "#0d0887"
            ],
            [
             0.1111111111111111,
             "#46039f"
            ],
            [
             0.2222222222222222,
             "#7201a8"
            ],
            [
             0.3333333333333333,
             "#9c179e"
            ],
            [
             0.4444444444444444,
             "#bd3786"
            ],
            [
             0.5555555555555556,
             "#d8576b"
            ],
            [
             0.6666666666666666,
             "#ed7953"
            ],
            [
             0.7777777777777778,
             "#fb9f3a"
            ],
            [
             0.8888888888888888,
             "#fdca26"
            ],
            [
             1,
             "#f0f921"
            ]
           ]
          },
          "colorway": [
           "#636efa",
           "#EF553B",
           "#00cc96",
           "#ab63fa",
           "#FFA15A",
           "#19d3f3",
           "#FF6692",
           "#B6E880",
           "#FF97FF",
           "#FECB52"
          ],
          "font": {
           "color": "#2a3f5f"
          },
          "geo": {
           "bgcolor": "white",
           "lakecolor": "white",
           "landcolor": "#E5ECF6",
           "showlakes": true,
           "showland": true,
           "subunitcolor": "white"
          },
          "hoverlabel": {
           "align": "left"
          },
          "hovermode": "closest",
          "mapbox": {
           "style": "light"
          },
          "paper_bgcolor": "white",
          "plot_bgcolor": "#E5ECF6",
          "polar": {
           "angularaxis": {
            "gridcolor": "white",
            "linecolor": "white",
            "ticks": ""
           },
           "bgcolor": "#E5ECF6",
           "radialaxis": {
            "gridcolor": "white",
            "linecolor": "white",
            "ticks": ""
           }
          },
          "scene": {
           "xaxis": {
            "backgroundcolor": "#E5ECF6",
            "gridcolor": "white",
            "gridwidth": 2,
            "linecolor": "white",
            "showbackground": true,
            "ticks": "",
            "zerolinecolor": "white"
           },
           "yaxis": {
            "backgroundcolor": "#E5ECF6",
            "gridcolor": "white",
            "gridwidth": 2,
            "linecolor": "white",
            "showbackground": true,
            "ticks": "",
            "zerolinecolor": "white"
           },
           "zaxis": {
            "backgroundcolor": "#E5ECF6",
            "gridcolor": "white",
            "gridwidth": 2,
            "linecolor": "white",
            "showbackground": true,
            "ticks": "",
            "zerolinecolor": "white"
           }
          },
          "shapedefaults": {
           "line": {
            "color": "#2a3f5f"
           }
          },
          "ternary": {
           "aaxis": {
            "gridcolor": "white",
            "linecolor": "white",
            "ticks": ""
           },
           "baxis": {
            "gridcolor": "white",
            "linecolor": "white",
            "ticks": ""
           },
           "bgcolor": "#E5ECF6",
           "caxis": {
            "gridcolor": "white",
            "linecolor": "white",
            "ticks": ""
           }
          },
          "title": {
           "x": 0.05
          },
          "xaxis": {
           "automargin": true,
           "gridcolor": "white",
           "linecolor": "white",
           "ticks": "",
           "title": {
            "standoff": 15
           },
           "zerolinecolor": "white",
           "zerolinewidth": 2
          },
          "yaxis": {
           "automargin": true,
           "gridcolor": "white",
           "linecolor": "white",
           "ticks": "",
           "title": {
            "standoff": 15
           },
           "zerolinecolor": "white",
           "zerolinewidth": 2
          }
         }
        },
        "title": {
         "text": "Churn Value Counts"
        },
        "width": 800,
        "xaxis": {
         "anchor": "y",
         "domain": [
          0,
          1
         ],
         "title": {
          "text": "churn"
         }
        },
        "yaxis": {
         "anchor": "x",
         "domain": [
          0,
          1
         ],
         "title": {
          "text": "count"
         }
        }
       }
      }
     },
     "metadata": {},
     "output_type": "display_data"
    }
   ],
   "source": [
    "print('Churn Value Counts:')\n",
    "print(df['churn'].value_counts())\n",
    "\n",
    "print('Churn Value Counts (percentage):')\n",
    "print(df['churn'].value_counts(normalize = True))\n",
    "\n",
    "vc = pd.DataFrame(df['churn'].value_counts()).reset_index()\n",
    "fig = px.bar(vc, x = 'churn', y = 'count', title = 'Churn Value Counts', width = w, height = w/1.5)\n",
    "fig.show()"
   ]
  },
  {
   "cell_type": "markdown",
   "id": "ffe3fd8e",
   "metadata": {},
   "source": [
    "## 4. Univariate Analysis\n",
    "- For numerical columns:  \n",
    "  - Plot histograms & boxplots.  \n",
    "  - Identify outliers and skewed distributions.  \n",
    "\n",
    "- For categorical columns:  \n",
    "  - Plot bar charts of category counts.  \n",
    "  - Check if categories have enough representation."
   ]
  },
  {
   "cell_type": "code",
   "execution_count": 7,
   "id": "d3383868",
   "metadata": {},
   "outputs": [],
   "source": [
    "# Function to plot histograms for numeric columns and bar plots for categorical columns\n",
    "def plot_columns(df):\n",
    "    df = df.copy()\n",
    "\n",
    "    cols_with_id = [col for col in df.columns if 'id' in col.lower() or 'codigo' in col.lower()]\n",
    "    df = df.drop(columns=cols_with_id)\n",
    "\n",
    "    for col in df.columns:\n",
    "        # Try to convert to numeric\n",
    "        df[col] = pd.to_numeric(df[col], errors='ignore')\n",
    "\n",
    "        if pd.api.types.is_numeric_dtype(df[col]):\n",
    "            # Histogram for numeric columns\n",
    "            fig = px.histogram(df, x=col, title=f\"Histogram — {col}\", width=w, height=w/1.5, marginal = 'box')\n",
    "        else:\n",
    "            # Bar plot for categorical columns (top 20)\n",
    "            counts = df[col].value_counts().head(20).reset_index()\n",
    "            counts.columns = [col, 'count']\n",
    "            fig = px.bar(counts, x=col, y='count', text='count', title=f\"Bar Plot — {col}\", width=w, height=w/1.5)\n",
    "            fig.show()"
   ]
  },
  {
   "cell_type": "code",
   "execution_count": 8,
   "id": "effa41b9",
   "metadata": {},
   "outputs": [],
   "source": [
    "#plot_columns(df)"
   ]
  },
  {
   "cell_type": "code",
   "execution_count": 12,
   "id": "fcb7d7a4",
   "metadata": {},
   "outputs": [
    {
     "data": {
      "image/png": "[encoded data removed]",
      "text/plain": [
       "<Figure size 1200x800 with 2 Axes>"
      ]
     },
     "metadata": {},
     "output_type": "display_data"
    }
   ],
   "source": [
    "# Correlation matrix\n",
    "\n",
    "cols_with_id = [col for col in df.columns if 'id' in col.lower() or 'codigo' in col.lower()]\n",
    "pl = df.drop(columns=cols_with_id)\n",
    "\n",
    "# Compute correlation only on numeric columns\n",
    "corr = pl.select_dtypes(include='number').corr()\n",
    "\n",
    "# Set up the matplotlib figure\n",
    "plt.figure(figsize=(12, 8))\n",
    "\n",
    "# Draw the heatmap\n",
    "sns.heatmap(\n",
    "    corr,\n",
    "    annot=False,          # Show correlation values\n",
    "    fmt=\".2f\",           # Format to 2 decimals\n",
    "    cmap=\"coolwarm\",     # Color palette\n",
    "    square=True,         # Keep cells square\n",
    "    cbar_kws={\"shrink\": .8}  # Adjust colorbar size\n",
    ")\n",
    "\n",
    "plt.title(\"Correlation Heatmap of Numeric Columns\", fontsize=14)\n",
    "plt.tight_layout()\n",
    "plt.show()"
   ]
  },
  {
   "cell_type": "markdown",
   "id": "24e186cd",
   "metadata": {},
   "source": [
    "## 5. Bivariate Analysis\n",
    "- Compare target column across categorical columns :  \n",
    "\n",
    "- Compare target column across numerical features:  \n",
    "  - Ex: How does the values of a column grow proportinally and disproportionally in relation with another; Compare average column values for different target column values. "
   ]
  },
  {
   "cell_type": "code",
   "execution_count": null,
   "id": "46ecb075",
   "metadata": {},
   "outputs": [],
   "source": [
    "def bivariate_analysis(df, wrap=4, top_k=10, sample=None):\n",
    "    \"\"\"\n",
    "    Bivariate analysis vs 'churn':\n",
    "      - Categorical features → normalized stacked bar plots\n",
    "      - Numerical features → box plots grouped by churn\n",
    "      - Numerical summary → heatmap of mean values per churn\n",
    "    \"\"\"\n",
    "    d = df.copy()\n",
    "    target = 'churn'\n",
    "\n",
    "    cols_with_id = [col for col in d.columns if 'id' in col.lower() or 'codigo' in col.lower()]\n",
    "    d = d.drop(columns=cols_with_id)\n",
    "\n",
    "    # Optional sampling\n",
    "    if sample is not None and len(d) > sample:\n",
    "        d = d.sample(sample, random_state=42)\n",
    "\n",
    "    # Detect column types\n",
    "    num_cols = d.select_dtypes(include='number').columns.tolist()\n",
    "    cat_cols = [c for c in d.columns if c not in num_cols and c != target]\n",
    "\n",
    "    # Ensure churn is categorical\n",
    "    d[target] = d[target].astype(str)\n",
    "\n",
    "    # === 1. CATEGORICAL FEATURES vs CHURN ===\n",
    "    if cat_cols:\n",
    "        melted = d[cat_cols + [target]].melt(\n",
    "            id_vars=target, var_name='column', value_name='category'\n",
    "        )\n",
    "        melted['category'] = melted['category'].astype(str).fillna('<NA>')\n",
    "\n",
    "        # Keep top-K categories per column\n",
    "        parts = []\n",
    "        for c in cat_cols:\n",
    "            vc = melted.loc[melted['column'] == c, 'category'].value_counts()\n",
    "            keep = vc.head(top_k).index\n",
    "            tmp = melted[melted['column'] == c].copy()\n",
    "            tmp.loc[~tmp['category'].isin(keep), 'category'] = f'__other__ (>{top_k})'\n",
    "            parts.append(tmp)\n",
    "        melted = pd.concat(parts)\n",
    "\n",
    "        counts = (\n",
    "            melted.groupby(['column', 'category', target], as_index=False)\n",
    "            .size()\n",
    "            .rename(columns={'size': 'count'})\n",
    "        )\n",
    "        counts['pct'] = (\n",
    "            counts.groupby(['column', 'category'])['count']\n",
    "            .apply(lambda x: x / x.sum())\n",
    "            .values\n",
    "        )\n",
    "\n",
    "        fig_cat = px.bar(\n",
    "            counts, x='category', y='pct', color=target,\n",
    "            facet_col='column', facet_col_wrap=wrap,\n",
    "            barmode='stack', title='Churn share within each category',\n",
    "            hover_data={'count': True, 'pct': ':.1%'}\n",
    "        )\n",
    "        fig_cat.update_yaxes(tickformat=\".0%\", matches=None)\n",
    "        fig_cat.update_xaxes(matches=None, tickangle=45)\n",
    "        fig_cat.for_each_annotation(lambda a: a.update(text=a.text.split('=')[-1]))\n",
    "        rows = (len(cat_cols) - 1) // wrap + 1\n",
    "        fig_cat.update_layout(height=320 * rows, margin=dict(t=40))\n",
    "        fig_cat.show()\n",
    "\n",
    "# === 2. NUMERICAL FEATURES vs CHURN (BOX PLOTS with auto y-range) ===\n",
    "    num_cols = [c for c in num_cols if c != target]\n",
    "    if num_cols:\n",
    "        long_num = d[num_cols + [target]].melt(\n",
    "            id_vars=target, var_name='column', value_name='value'\n",
    "        ).dropna(subset=['value'])\n",
    "\n",
    "        fig_box = px.box(\n",
    "            long_num, x=target, y='value', color=target,\n",
    "            facet_col='column', facet_col_wrap=wrap,\n",
    "            title='Numerical features by churn — box plots'\n",
    "        )\n",
    "\n",
    "        # ✅ Each box plot keeps its own Y range\n",
    "        fig_box.update_yaxes(matches=None)\n",
    "        fig_box.for_each_annotation(lambda a: a.update(text=a.text.split('=')[-1]))\n",
    "        rows = (len(num_cols) - 1) // wrap + 1\n",
    "        fig_box.update_layout(height=300 * rows, margin=dict(t=40))\n",
    "        fig_box.show()\n",
    "\n",
    "        # === 3. MEAN VALUES per CHURN ===\n",
    "        means = d.groupby(target, dropna=False)[num_cols].mean(numeric_only=True).T\n",
    "        fig_heat = px.imshow(\n",
    "            means, labels=dict(x='Churn', y='Feature', color='Mean'),\n",
    "            title='Average numerical feature values per churn value'\n",
    "        )\n",
    "        fig_heat.update_layout(margin=dict(t=40))\n",
    "        fig_heat.show()"
   ]
  },
  {
   "cell_type": "code",
   "execution_count": null,
   "id": "522527cc",
   "metadata": {},
   "outputs": [],
   "source": [
    "#bivariate_analysis(df, wrap=4, top_k=10, sample=None)"
   ]
  },
  {
   "cell_type": "code",
   "execution_count": 19,
   "id": "f3bcb636",
   "metadata": {},
   "outputs": [],
   "source": [
    "# Point biserial and Cramers correlation\n",
    "\n",
    "from scipy.stats import chi2_contingency, pointbiserialr\n",
    "\n",
    "def cramers_v(x, y):\n",
    "    \"\"\"Cramér’s V for categorical-categorical association.\"\"\"\n",
    "    confusion_matrix = pd.crosstab(x, y)\n",
    "    chi2 = chi2_contingency(confusion_matrix)[0]\n",
    "    n = confusion_matrix.sum().sum()\n",
    "    phi2 = chi2 / n\n",
    "    r, k = confusion_matrix.shape\n",
    "    return np.sqrt(phi2 / min(k - 1, r - 1))\n",
    "\n",
    "def is_numeric_dtype(series):\n",
    "    \"\"\"Helper to safely detect numeric dtypes including pandas nullable ones.\"\"\"\n",
    "    return pd.api.types.is_numeric_dtype(series)\n",
    "\n",
    "def corr_with_churn(df, target='churn', max_cat_unique=20):\n",
    "    \"\"\"Compute correlation of all columns with binary target.\"\"\"\n",
    "    results = []\n",
    "\n",
    "    for col in df.columns:\n",
    "        if col == target:\n",
    "            continue\n",
    "\n",
    "        # Skip all-null or constant columns\n",
    "        if df[col].nunique(dropna=True) <= 1:\n",
    "            continue\n",
    "\n",
    "        try:\n",
    "            if is_numeric_dtype(df[col]):\n",
    "                # Numeric feature → point-biserial correlation\n",
    "                corr, _ = pointbiserialr(df[col].astype(float), df[target])\n",
    "                method = 'point-biserial'\n",
    "            elif df[col].dtype == 'object' or df[col].nunique() <= max_cat_unique:\n",
    "                # Categorical feature → Cramér’s V\n",
    "                corr = cramers_v(df[col].astype(str), df[target])\n",
    "                method = 'cramers_v'\n",
    "            else:\n",
    "                continue  # skip high-cardinality non-numeric columns\n",
    "\n",
    "            results.append({'feature': col, 'correlation': corr, 'method': method})\n",
    "\n",
    "        except Exception as e:\n",
    "            print(f\"Skipping {col}: {e}\")\n",
    "\n",
    "    corr_df = pd.DataFrame(results)\n",
    "    return corr_df.sort_values('correlation', ascending=False).reset_index(drop=True)"
   ]
  },
  {
   "cell_type": "code",
   "execution_count": 18,
   "id": "abdcb6a6",
   "metadata": {},
   "outputs": [
    {
     "name": "stdout",
     "output_type": "stream",
     "text": [
      "                  feature  correlation          method\n",
      "0           tenure_bucket     0.154783       cramers_v\n",
      "1     tipo_produto_actual     0.105954       cramers_v\n",
      "2               municipio     0.072645       cramers_v\n",
      "3       id_produto_actual     0.058053  point-biserial\n",
      "4               provincia     0.055460       cramers_v\n",
      "5              expiry_dow     0.045518  point-biserial\n",
      "6                tipo_stb     0.027372       cramers_v\n",
      "7      codigocontaservico     0.017507  point-biserial\n",
      "8                    sexo     0.012188       cramers_v\n",
      "9           used_selfcare     0.011474  point-biserial\n",
      "10           estado_civil     0.008986       cramers_v\n",
      "11              tipoconta     0.007442       cramers_v\n",
      "12             tecnologia     0.004397       cramers_v\n",
      "13  n_successful_contacts     0.001579  point-biserial\n",
      "14             n_contacts     0.001487  point-biserial\n",
      "15          was_contacted     0.000544  point-biserial\n",
      "16        last_contact_ts     0.000544  point-biserial\n",
      "17      contract_len_days    -0.000186  point-biserial\n",
      "18      n_dias_subscricao    -0.000186  point-biserial\n",
      "19            any_success    -0.000777  point-biserial\n"
     ]
    }
   ],
   "source": [
    "corr_df = corr_with_churn(df, target='churn')\n",
    "print(corr_df.head(20))"
   ]
  },
  {
   "cell_type": "markdown",
   "id": "3e67453d",
   "metadata": {},
   "source": [
    "This table shows how strongly each feature is associated with your binary target churn (1 = churned, 0 = active), using the right correlation metric per type:\n",
    "- Cramér’s V → for categorical vs binary features (strength only, 0–1)\n",
    "- Point-biserial → for numeric vs binary features (direction ±, −1 to +1)\n",
    "\n",
    "Values closer to 1 (or −1) imply a stronger relationship with churn.\n",
    "Most of your values are below 0.15, meaning weak to moderate associations — typical for customer-churn datasets where multiple small factors combine."
   ]
  },
  {
   "cell_type": "markdown",
   "id": "62daf055",
   "metadata": {},
   "source": [
    "## 7. Reproducibility Practices\n",
    "- Set a **random seed** when sampling rows for inspection.  \n",
    "- Save an **EDA profile report** .  \n",
    "- Export a **feature schema JSON** with column names, types, and allowed ranges/categories.  "
   ]
  },
  {
   "cell_type": "code",
   "execution_count": null,
   "id": "edda8a92",
   "metadata": {},
   "outputs": [],
   "source": [
    "# BAD: every run gives a different sample\n",
    "df_sample = df.sample(500)\n",
    "\n",
    "# GOOD: fixed seed = reproducible sampling\n",
    "df_sample = df.sample(500, random_state=42)"
   ]
  },
  {
   "cell_type": "code",
   "execution_count": 20,
   "id": "2a4f4643",
   "metadata": {},
   "outputs": [
    {
     "name": "stderr",
     "output_type": "stream",
     "text": [
      "/Users/federicodealbawork/miniconda3/envs/py312/lib/python3.12/site-packages/tqdm/auto.py:21: TqdmWarning:\n",
      "\n",
      "IProgress not found. Please update jupyter and ipywidgets. See https://ipywidgets.readthedocs.io/en/stable/user_install.html\n",
      "\n"
     ]
    },
    {
     "data": {
      "text/html": [
       "\n",
       "            <div>\n",
       "                <ins><a href=\"https://ydata.ai/register\">Upgrade to ydata-sdk</a></ins>\n",
       "                <p>\n",
       "                    Improve your data and profiling with ydata-sdk, featuring data quality scoring, redundancy detection, outlier identification, text validation, and synthetic data generation.\n",
       "                </p>\n",
       "            </div>\n",
       "            "
      ],
      "text/plain": [
       "<IPython.core.display.HTML object>"
      ]
     },
     "metadata": {},
     "output_type": "display_data"
    },
    {
     "name": "stderr",
     "output_type": "stream",
     "text": [
      " 57%|█████▋    | 33/58 [00:01<00:01, 18.00it/s]1<00:02, 13.87it/s, Describe variable: account_age_d_conta]           \n",
      "Summarize dataset:  92%|█████████▏| 58/63 [00:02<00:00, 19.76it/s, Describe variable: topup_channel_nunique]     \n"
     ]
    },
    {
     "ename": "KeyboardInterrupt",
     "evalue": "",
     "output_type": "error",
     "traceback": [
      "\u001b[31m---------------------------------------------------------------------------\u001b[39m",
      "\u001b[31mKeyboardInterrupt\u001b[39m                         Traceback (most recent call last)",
      "\u001b[36mCell\u001b[39m\u001b[36m \u001b[39m\u001b[32mIn[20]\u001b[39m\u001b[32m, line 6\u001b[39m\n\u001b[32m      3\u001b[39m \u001b[38;5;28;01mfrom\u001b[39;00m\u001b[38;5;250m \u001b[39m\u001b[34;01mydata_profiling\u001b[39;00m\u001b[38;5;250m \u001b[39m\u001b[38;5;28;01mimport\u001b[39;00m ProfileReport\n\u001b[32m      5\u001b[39m profile = ProfileReport(df, title=\u001b[33m\"\u001b[39m\u001b[33mEDA Report — Customer Churn\u001b[39m\u001b[33m\"\u001b[39m, explorative=\u001b[38;5;28;01mTrue\u001b[39;00m)\n\u001b[32m----> \u001b[39m\u001b[32m6\u001b[39m \u001b[43mprofile\u001b[49m\u001b[43m.\u001b[49m\u001b[43mto_file\u001b[49m\u001b[43m(\u001b[49m\u001b[33;43m\"\u001b[39;49m\u001b[33;43meda_report.html\u001b[39;49m\u001b[33;43m\"\u001b[39;49m\u001b[43m)\u001b[49m\n",
      "\u001b[36mFile \u001b[39m\u001b[32m~/miniconda3/envs/py312/lib/python3.12/site-packages/ydata_profiling/profile_report.py:381\u001b[39m, in \u001b[36mProfileReport.to_file\u001b[39m\u001b[34m(self, output_file, silent)\u001b[39m\n\u001b[32m    378\u001b[39m         \u001b[38;5;28mself\u001b[39m.config.html.assets_prefix = \u001b[38;5;28mstr\u001b[39m(output_file.stem) + \u001b[33m\"\u001b[39m\u001b[33m_assets\u001b[39m\u001b[33m\"\u001b[39m\n\u001b[32m    379\u001b[39m     create_html_assets(\u001b[38;5;28mself\u001b[39m.config, output_file)\n\u001b[32m--> \u001b[39m\u001b[32m381\u001b[39m data = \u001b[38;5;28;43mself\u001b[39;49m\u001b[43m.\u001b[49m\u001b[43mto_html\u001b[49m\u001b[43m(\u001b[49m\u001b[43m)\u001b[49m\n\u001b[32m    383\u001b[39m \u001b[38;5;28;01mif\u001b[39;00m output_file.suffix != \u001b[33m\"\u001b[39m\u001b[33m.html\u001b[39m\u001b[33m\"\u001b[39m:\n\u001b[32m    384\u001b[39m     suffix = output_file.suffix\n",
      "\u001b[36mFile \u001b[39m\u001b[32m~/miniconda3/envs/py312/lib/python3.12/site-packages/ydata_profiling/profile_report.py:498\u001b[39m, in \u001b[36mProfileReport.to_html\u001b[39m\u001b[34m(self)\u001b[39m\n\u001b[32m    490\u001b[39m \u001b[38;5;28;01mdef\u001b[39;00m\u001b[38;5;250m \u001b[39m\u001b[34mto_html\u001b[39m(\u001b[38;5;28mself\u001b[39m) -> \u001b[38;5;28mstr\u001b[39m:\n\u001b[32m    491\u001b[39m \u001b[38;5;250m    \u001b[39m\u001b[33;03m\"\"\"Generate and return complete template as lengthy string\u001b[39;00m\n\u001b[32m    492\u001b[39m \u001b[33;03m        for using with frameworks.\u001b[39;00m\n\u001b[32m    493\u001b[39m \n\u001b[32m   (...)\u001b[39m\u001b[32m    496\u001b[39m \n\u001b[32m    497\u001b[39m \u001b[33;03m    \"\"\"\u001b[39;00m\n\u001b[32m--> \u001b[39m\u001b[32m498\u001b[39m     \u001b[38;5;28;01mreturn\u001b[39;00m \u001b[38;5;28;43mself\u001b[39;49m\u001b[43m.\u001b[49m\u001b[43mhtml\u001b[49m\n",
      "\u001b[36mFile \u001b[39m\u001b[32m~/miniconda3/envs/py312/lib/python3.12/site-packages/ydata_profiling/profile_report.py:294\u001b[39m, in \u001b[36mProfileReport.html\u001b[39m\u001b[34m(self)\u001b[39m\n\u001b[32m    291\u001b[39m \u001b[38;5;129m@property\u001b[39m\n\u001b[32m    292\u001b[39m \u001b[38;5;28;01mdef\u001b[39;00m\u001b[38;5;250m \u001b[39m\u001b[34mhtml\u001b[39m(\u001b[38;5;28mself\u001b[39m) -> \u001b[38;5;28mstr\u001b[39m:\n\u001b[32m    293\u001b[39m     \u001b[38;5;28;01mif\u001b[39;00m \u001b[38;5;28mself\u001b[39m._html \u001b[38;5;129;01mis\u001b[39;00m \u001b[38;5;28;01mNone\u001b[39;00m:\n\u001b[32m--> \u001b[39m\u001b[32m294\u001b[39m         \u001b[38;5;28mself\u001b[39m._html = \u001b[38;5;28;43mself\u001b[39;49m\u001b[43m.\u001b[49m\u001b[43m_render_html\u001b[49m\u001b[43m(\u001b[49m\u001b[43m)\u001b[49m\n\u001b[32m    295\u001b[39m     \u001b[38;5;28;01mreturn\u001b[39;00m \u001b[38;5;28mself\u001b[39m._html\n",
      "\u001b[36mFile \u001b[39m\u001b[32m~/miniconda3/envs/py312/lib/python3.12/site-packages/ydata_profiling/profile_report.py:411\u001b[39m, in \u001b[36mProfileReport._render_html\u001b[39m\u001b[34m(self)\u001b[39m\n\u001b[32m    408\u001b[39m \u001b[38;5;28;01mdef\u001b[39;00m\u001b[38;5;250m \u001b[39m\u001b[34m_render_html\u001b[39m(\u001b[38;5;28mself\u001b[39m) -> \u001b[38;5;28mstr\u001b[39m:\n\u001b[32m    409\u001b[39m     \u001b[38;5;28;01mfrom\u001b[39;00m\u001b[38;5;250m \u001b[39m\u001b[34;01mydata_profiling\u001b[39;00m\u001b[34;01m.\u001b[39;00m\u001b[34;01mreport\u001b[39;00m\u001b[34;01m.\u001b[39;00m\u001b[34;01mpresentation\u001b[39;00m\u001b[34;01m.\u001b[39;00m\u001b[34;01mflavours\u001b[39;00m\u001b[38;5;250m \u001b[39m\u001b[38;5;28;01mimport\u001b[39;00m HTMLReport\n\u001b[32m--> \u001b[39m\u001b[32m411\u001b[39m     report = \u001b[38;5;28;43mself\u001b[39;49m\u001b[43m.\u001b[49m\u001b[43mreport\u001b[49m\n\u001b[32m    413\u001b[39m     \u001b[38;5;28;01mwith\u001b[39;00m tqdm(\n\u001b[32m    414\u001b[39m         total=\u001b[32m1\u001b[39m, desc=\u001b[33m\"\u001b[39m\u001b[33mRender HTML\u001b[39m\u001b[33m\"\u001b[39m, disable=\u001b[38;5;129;01mnot\u001b[39;00m \u001b[38;5;28mself\u001b[39m.config.progress_bar\n\u001b[32m    415\u001b[39m     ) \u001b[38;5;28;01mas\u001b[39;00m pbar:\n\u001b[32m    416\u001b[39m         html = HTMLReport(copy.deepcopy(report)).render(\n\u001b[32m    417\u001b[39m             nav=\u001b[38;5;28mself\u001b[39m.config.html.navbar_show,\n\u001b[32m    418\u001b[39m             offline=\u001b[38;5;28mself\u001b[39m.config.html.use_local_assets,\n\u001b[32m   (...)\u001b[39m\u001b[32m    426\u001b[39m             version=\u001b[38;5;28mself\u001b[39m.description_set.package[\u001b[33m\"\u001b[39m\u001b[33mydata_profiling_version\u001b[39m\u001b[33m\"\u001b[39m],\n\u001b[32m    427\u001b[39m         )\n",
      "\u001b[36mFile \u001b[39m\u001b[32m~/miniconda3/envs/py312/lib/python3.12/site-packages/ydata_profiling/profile_report.py:288\u001b[39m, in \u001b[36mProfileReport.report\u001b[39m\u001b[34m(self)\u001b[39m\n\u001b[32m    285\u001b[39m \u001b[38;5;129m@property\u001b[39m\n\u001b[32m    286\u001b[39m \u001b[38;5;28;01mdef\u001b[39;00m\u001b[38;5;250m \u001b[39m\u001b[34mreport\u001b[39m(\u001b[38;5;28mself\u001b[39m) -> Root:\n\u001b[32m    287\u001b[39m     \u001b[38;5;28;01mif\u001b[39;00m \u001b[38;5;28mself\u001b[39m._report \u001b[38;5;129;01mis\u001b[39;00m \u001b[38;5;28;01mNone\u001b[39;00m:\n\u001b[32m--> \u001b[39m\u001b[32m288\u001b[39m         \u001b[38;5;28mself\u001b[39m._report = get_report_structure(\u001b[38;5;28mself\u001b[39m.config, \u001b[38;5;28;43mself\u001b[39;49m\u001b[43m.\u001b[49m\u001b[43mdescription_set\u001b[49m)\n\u001b[32m    289\u001b[39m     \u001b[38;5;28;01mreturn\u001b[39;00m \u001b[38;5;28mself\u001b[39m._report\n",
      "\u001b[36mFile \u001b[39m\u001b[32m~/miniconda3/envs/py312/lib/python3.12/site-packages/ydata_profiling/profile_report.py:270\u001b[39m, in \u001b[36mProfileReport.description_set\u001b[39m\u001b[34m(self)\u001b[39m\n\u001b[32m    267\u001b[39m \u001b[38;5;129m@property\u001b[39m\n\u001b[32m    268\u001b[39m \u001b[38;5;28;01mdef\u001b[39;00m\u001b[38;5;250m \u001b[39m\u001b[34mdescription_set\u001b[39m(\u001b[38;5;28mself\u001b[39m) -> BaseDescription:\n\u001b[32m    269\u001b[39m     \u001b[38;5;28;01mif\u001b[39;00m \u001b[38;5;28mself\u001b[39m._description_set \u001b[38;5;129;01mis\u001b[39;00m \u001b[38;5;28;01mNone\u001b[39;00m:\n\u001b[32m--> \u001b[39m\u001b[32m270\u001b[39m         \u001b[38;5;28mself\u001b[39m._description_set = \u001b[43mdescribe_df\u001b[49m\u001b[43m(\u001b[49m\n\u001b[32m    271\u001b[39m \u001b[43m            \u001b[49m\u001b[38;5;28;43mself\u001b[39;49m\u001b[43m.\u001b[49m\u001b[43mconfig\u001b[49m\u001b[43m,\u001b[49m\n\u001b[32m    272\u001b[39m \u001b[43m            \u001b[49m\u001b[38;5;28;43mself\u001b[39;49m\u001b[43m.\u001b[49m\u001b[43mdf\u001b[49m\u001b[43m,\u001b[49m\n\u001b[32m    273\u001b[39m \u001b[43m            \u001b[49m\u001b[38;5;28;43mself\u001b[39;49m\u001b[43m.\u001b[49m\u001b[43msummarizer\u001b[49m\u001b[43m,\u001b[49m\n\u001b[32m    274\u001b[39m \u001b[43m            \u001b[49m\u001b[38;5;28;43mself\u001b[39;49m\u001b[43m.\u001b[49m\u001b[43mtypeset\u001b[49m\u001b[43m,\u001b[49m\n\u001b[32m    275\u001b[39m \u001b[43m            \u001b[49m\u001b[38;5;28;43mself\u001b[39;49m\u001b[43m.\u001b[49m\u001b[43m_sample\u001b[49m\u001b[43m,\u001b[49m\n\u001b[32m    276\u001b[39m \u001b[43m        \u001b[49m\u001b[43m)\u001b[49m\n\u001b[32m    277\u001b[39m     \u001b[38;5;28;01mreturn\u001b[39;00m \u001b[38;5;28mself\u001b[39m._description_set\n",
      "\u001b[36mFile \u001b[39m\u001b[32m~/miniconda3/envs/py312/lib/python3.12/site-packages/ydata_profiling/model/describe.py:89\u001b[39m, in \u001b[36mdescribe\u001b[39m\u001b[34m(config, df, summarizer, typeset, sample)\u001b[39m\n\u001b[32m     87\u001b[39m \u001b[38;5;66;03m# Variable-specific\u001b[39;00m\n\u001b[32m     88\u001b[39m pbar.total += \u001b[38;5;28mlen\u001b[39m(df.columns)\n\u001b[32m---> \u001b[39m\u001b[32m89\u001b[39m series_description = \u001b[43mget_series_descriptions\u001b[49m\u001b[43m(\u001b[49m\n\u001b[32m     90\u001b[39m \u001b[43m    \u001b[49m\u001b[43mconfig\u001b[49m\u001b[43m,\u001b[49m\u001b[43m \u001b[49m\u001b[43mdf\u001b[49m\u001b[43m,\u001b[49m\u001b[43m \u001b[49m\u001b[43msummarizer\u001b[49m\u001b[43m,\u001b[49m\u001b[43m \u001b[49m\u001b[43mtypeset\u001b[49m\u001b[43m,\u001b[49m\u001b[43m \u001b[49m\u001b[43mpbar\u001b[49m\n\u001b[32m     91\u001b[39m \u001b[43m\u001b[49m\u001b[43m)\u001b[49m\n\u001b[32m     93\u001b[39m pbar.set_postfix_str(\u001b[33m\"\u001b[39m\u001b[33mGet variable types\u001b[39m\u001b[33m\"\u001b[39m)\n\u001b[32m     94\u001b[39m pbar.total += \u001b[32m1\u001b[39m\n",
      "\u001b[36mFile \u001b[39m\u001b[32m~/miniconda3/envs/py312/lib/python3.12/site-packages/ydata_profiling/model/summary.py:62\u001b[39m, in \u001b[36mget_series_descriptions\u001b[39m\u001b[34m(config, df, summarizer, typeset, pbar)\u001b[39m\n\u001b[32m     54\u001b[39m \u001b[38;5;28;01mdef\u001b[39;00m\u001b[38;5;250m \u001b[39m\u001b[34mget_series_descriptions\u001b[39m(\n\u001b[32m     55\u001b[39m     config: Settings,\n\u001b[32m     56\u001b[39m     df: Any,\n\u001b[32m   (...)\u001b[39m\u001b[32m     59\u001b[39m     pbar: tqdm,\n\u001b[32m     60\u001b[39m ) -> \u001b[38;5;28mdict\u001b[39m:\n\u001b[32m     61\u001b[39m     \u001b[38;5;28;01mif\u001b[39;00m \u001b[38;5;28misinstance\u001b[39m(df, pd.DataFrame):\n\u001b[32m---> \u001b[39m\u001b[32m62\u001b[39m         \u001b[38;5;28;01mreturn\u001b[39;00m \u001b[43mpandas_get_series_descriptions\u001b[49m\u001b[43m(\u001b[49m\u001b[43mconfig\u001b[49m\u001b[43m,\u001b[49m\u001b[43m \u001b[49m\u001b[43mdf\u001b[49m\u001b[43m,\u001b[49m\u001b[43m \u001b[49m\u001b[43msummarizer\u001b[49m\u001b[43m,\u001b[49m\u001b[43m \u001b[49m\u001b[43mtypeset\u001b[49m\u001b[43m,\u001b[49m\u001b[43m \u001b[49m\u001b[43mpbar\u001b[49m\u001b[43m)\u001b[49m\n\u001b[32m     63\u001b[39m     \u001b[38;5;28;01melif\u001b[39;00m \u001b[38;5;28misinstance\u001b[39m(df, sparkDataFrame):  \u001b[38;5;66;03m# type: ignore\u001b[39;00m\n\u001b[32m     64\u001b[39m         \u001b[38;5;28;01mreturn\u001b[39;00m get_series_descriptions_spark(config, df, summarizer, typeset, pbar)\n",
      "\u001b[36mFile \u001b[39m\u001b[32m~/miniconda3/envs/py312/lib/python3.12/site-packages/ydata_profiling/model/pandas/summary_pandas.py:97\u001b[39m, in \u001b[36mpandas_get_series_descriptions\u001b[39m\u001b[34m(config, df, summarizer, typeset, pbar)\u001b[39m\n\u001b[32m     91\u001b[39m \u001b[38;5;28;01mwith\u001b[39;00m ThreadPoolExecutor(max_workers=pool_size) \u001b[38;5;28;01mas\u001b[39;00m executor:\n\u001b[32m     92\u001b[39m     future_to_col = {\n\u001b[32m     93\u001b[39m         executor.submit(describe_column, name, series): name  \u001b[38;5;66;03m# type:ignore\u001b[39;00m\n\u001b[32m     94\u001b[39m         \u001b[38;5;28;01mfor\u001b[39;00m name, series \u001b[38;5;129;01min\u001b[39;00m df.items()\n\u001b[32m     95\u001b[39m     }\n\u001b[32m---> \u001b[39m\u001b[32m97\u001b[39m \u001b[43m    \u001b[49m\u001b[38;5;28;43;01mfor\u001b[39;49;00m\u001b[43m \u001b[49m\u001b[43mfuture\u001b[49m\u001b[43m \u001b[49m\u001b[38;5;129;43;01min\u001b[39;49;00m\u001b[43m \u001b[49m\u001b[43mtqdm\u001b[49m\u001b[43m(\u001b[49m\u001b[43mfuture_to_col\u001b[49m\u001b[43m.\u001b[49m\u001b[43mkeys\u001b[49m\u001b[43m(\u001b[49m\u001b[43m)\u001b[49m\u001b[43m,\u001b[49m\u001b[43m \u001b[49m\u001b[43mtotal\u001b[49m\u001b[43m=\u001b[49m\u001b[38;5;28;43mlen\u001b[39;49m\u001b[43m(\u001b[49m\u001b[43mfuture_to_col\u001b[49m\u001b[43m)\u001b[49m\u001b[43m)\u001b[49m\u001b[43m:\u001b[49m\n\u001b[32m     98\u001b[39m \u001b[43m        \u001b[49m\u001b[43mname\u001b[49m\u001b[43m,\u001b[49m\u001b[43m \u001b[49m\u001b[43mdescription\u001b[49m\u001b[43m \u001b[49m\u001b[43m=\u001b[49m\u001b[43m \u001b[49m\u001b[43mfuture\u001b[49m\u001b[43m.\u001b[49m\u001b[43mresult\u001b[49m\u001b[43m(\u001b[49m\u001b[43m)\u001b[49m\n\u001b[32m     99\u001b[39m \u001b[43m        \u001b[49m\u001b[43mseries_description\u001b[49m\u001b[43m[\u001b[49m\u001b[43mname\u001b[49m\u001b[43m]\u001b[49m\u001b[43m \u001b[49m\u001b[43m=\u001b[49m\u001b[43m \u001b[49m\u001b[43mdescription\u001b[49m\n",
      "\u001b[36mFile \u001b[39m\u001b[32m~/miniconda3/envs/py312/lib/python3.12/site-packages/tqdm/std.py:1191\u001b[39m, in \u001b[36mtqdm.__iter__\u001b[39m\u001b[34m(self)\u001b[39m\n\u001b[32m   1189\u001b[39m dt = cur_t - last_print_t\n\u001b[32m   1190\u001b[39m \u001b[38;5;28;01mif\u001b[39;00m dt >= mininterval \u001b[38;5;129;01mand\u001b[39;00m cur_t >= min_start_t:\n\u001b[32m-> \u001b[39m\u001b[32m1191\u001b[39m     \u001b[38;5;28;43mself\u001b[39;49m\u001b[43m.\u001b[49m\u001b[43mupdate\u001b[49m\u001b[43m(\u001b[49m\u001b[43mn\u001b[49m\u001b[43m \u001b[49m\u001b[43m-\u001b[49m\u001b[43m \u001b[49m\u001b[43mlast_print_n\u001b[49m\u001b[43m)\u001b[49m\n\u001b[32m   1192\u001b[39m     last_print_n = \u001b[38;5;28mself\u001b[39m.last_print_n\n\u001b[32m   1193\u001b[39m     last_print_t = \u001b[38;5;28mself\u001b[39m.last_print_t\n",
      "\u001b[36mFile \u001b[39m\u001b[32m~/miniconda3/envs/py312/lib/python3.12/site-packages/tqdm/std.py:1242\u001b[39m, in \u001b[36mtqdm.update\u001b[39m\u001b[34m(self, n)\u001b[39m\n\u001b[32m   1240\u001b[39m     \u001b[38;5;28mself\u001b[39m._ema_dn(dn)\n\u001b[32m   1241\u001b[39m     \u001b[38;5;28mself\u001b[39m._ema_dt(dt)\n\u001b[32m-> \u001b[39m\u001b[32m1242\u001b[39m \u001b[38;5;28;43mself\u001b[39;49m\u001b[43m.\u001b[49m\u001b[43mrefresh\u001b[49m\u001b[43m(\u001b[49m\u001b[43mlock_args\u001b[49m\u001b[43m=\u001b[49m\u001b[38;5;28;43mself\u001b[39;49m\u001b[43m.\u001b[49m\u001b[43mlock_args\u001b[49m\u001b[43m)\u001b[49m\n\u001b[32m   1243\u001b[39m \u001b[38;5;28;01mif\u001b[39;00m \u001b[38;5;28mself\u001b[39m.dynamic_miniters:\n\u001b[32m   1244\u001b[39m     \u001b[38;5;66;03m# If no `miniters` was specified, adjust automatically to the\u001b[39;00m\n\u001b[32m   1245\u001b[39m     \u001b[38;5;66;03m# maximum iteration rate seen so far between two prints.\u001b[39;00m\n\u001b[32m   1246\u001b[39m     \u001b[38;5;66;03m# e.g.: After running `tqdm.update(5)`, subsequent\u001b[39;00m\n\u001b[32m   1247\u001b[39m     \u001b[38;5;66;03m# calls to `tqdm.update()` will only cause an update after\u001b[39;00m\n\u001b[32m   1248\u001b[39m     \u001b[38;5;66;03m# at least 5 more iterations.\u001b[39;00m\n\u001b[32m   1249\u001b[39m     \u001b[38;5;28;01mif\u001b[39;00m \u001b[38;5;28mself\u001b[39m.maxinterval \u001b[38;5;129;01mand\u001b[39;00m dt >= \u001b[38;5;28mself\u001b[39m.maxinterval:\n",
      "\u001b[36mFile \u001b[39m\u001b[32m~/miniconda3/envs/py312/lib/python3.12/site-packages/tqdm/std.py:1346\u001b[39m, in \u001b[36mtqdm.refresh\u001b[39m\u001b[34m(self, nolock, lock_args)\u001b[39m\n\u001b[32m   1344\u001b[39m             \u001b[38;5;28;01mreturn\u001b[39;00m \u001b[38;5;28;01mFalse\u001b[39;00m\n\u001b[32m   1345\u001b[39m     \u001b[38;5;28;01melse\u001b[39;00m:\n\u001b[32m-> \u001b[39m\u001b[32m1346\u001b[39m         \u001b[38;5;28;43mself\u001b[39;49m\u001b[43m.\u001b[49m\u001b[43m_lock\u001b[49m\u001b[43m.\u001b[49m\u001b[43macquire\u001b[49m\u001b[43m(\u001b[49m\u001b[43m)\u001b[49m\n\u001b[32m   1347\u001b[39m \u001b[38;5;28mself\u001b[39m.display()\n\u001b[32m   1348\u001b[39m \u001b[38;5;28;01mif\u001b[39;00m \u001b[38;5;129;01mnot\u001b[39;00m nolock:\n",
      "\u001b[36mFile \u001b[39m\u001b[32m~/miniconda3/envs/py312/lib/python3.12/site-packages/tqdm/std.py:104\u001b[39m, in \u001b[36mTqdmDefaultWriteLock.acquire\u001b[39m\u001b[34m(self, *a, **k)\u001b[39m\n\u001b[32m    102\u001b[39m \u001b[38;5;28;01mdef\u001b[39;00m\u001b[38;5;250m \u001b[39m\u001b[34macquire\u001b[39m(\u001b[38;5;28mself\u001b[39m, *a, **k):\n\u001b[32m    103\u001b[39m     \u001b[38;5;28;01mfor\u001b[39;00m lock \u001b[38;5;129;01min\u001b[39;00m \u001b[38;5;28mself\u001b[39m.locks:\n\u001b[32m--> \u001b[39m\u001b[32m104\u001b[39m         \u001b[43mlock\u001b[49m\u001b[43m.\u001b[49m\u001b[43macquire\u001b[49m\u001b[43m(\u001b[49m\u001b[43m*\u001b[49m\u001b[43ma\u001b[49m\u001b[43m,\u001b[49m\u001b[43m \u001b[49m\u001b[43m*\u001b[49m\u001b[43m*\u001b[49m\u001b[43mk\u001b[49m\u001b[43m)\u001b[49m\n",
      "\u001b[31mKeyboardInterrupt\u001b[39m: "
     ]
    }
   ],
   "source": [
    "# EDA profiler report\n",
    "\n",
    "from ydata_profiling import ProfileReport\n",
    "\n",
    "profile = ProfileReport(df, title=\"EDA Report — Customer Churn\", explorative=True)\n",
    "profile.to_file(\"eda_report.html\")"
   ]
  },
  {
   "cell_type": "code",
   "execution_count": 21,
   "id": "2fe79ab0",
   "metadata": {},
   "outputs": [],
   "source": [
    "# Feature schema json\n",
    "\n",
    "import json\n",
    "\n",
    "schema = {}\n",
    "\n",
    "for col in df.columns:\n",
    "    dtype = str(df[col].dtype)\n",
    "    col_data = df[col].dropna()\n",
    "\n",
    "    if pd.api.types.is_numeric_dtype(df[col]):\n",
    "        schema[col] = {\n",
    "            \"type\": dtype,\n",
    "            \"min\": float(col_data.min()) if not col_data.empty else None,\n",
    "            \"max\": float(col_data.max()) if not col_data.empty else None\n",
    "        }\n",
    "\n",
    "    elif pd.api.types.is_datetime64_any_dtype(df[col]):\n",
    "        schema[col] = {\n",
    "            \"type\": dtype,\n",
    "            \"min\": str(col_data.min()) if not col_data.empty else None,\n",
    "            \"max\": str(col_data.max()) if not col_data.empty else None\n",
    "        }\n",
    "\n",
    "    else:\n",
    "        schema[col] = {\n",
    "            \"type\": dtype,\n",
    "            \"categories\": col_data.unique().tolist()\n",
    "        }\n",
    "\n",
    "with open(\"feature_schema.json\", \"w\") as f:\n",
    "    json.dump(schema, f, indent=2)"
   ]
  },
  {
   "cell_type": "markdown",
   "id": "73137409",
   "metadata": {},
   "source": [
    "## 8. Train/Validation/Test Split Strategy\n",
    "- Propose and implement a split strategy:  \n",
    "  - Random stratified split by target column.  \n",
    "  - Ensure reproducibility with a fixed random seed.  \n",
    "  - Document why stratification is necessary here.  "
   ]
  },
  {
   "cell_type": "code",
   "execution_count": null,
   "id": "658bf1e8",
   "metadata": {},
   "outputs": [],
   "source": [
    "#Simplified version from prepare_data_for_training in sagemaker/training/training_utils.py\n",
    "\n",
    "df = df.sort_values('iddim_date_inicio')\n",
    "\n",
    "# Define cutoff points (e.g., last 20% for validation/test)\n",
    "train_size = 0.8\n",
    "val_size = 0.1  # 10% val, 10% test\n",
    "\n",
    "n = len(df)\n",
    "train_end = int(n * train_size)\n",
    "val_end = int(n * (train_size + val_size))\n",
    "\n",
    "df_train = df.iloc[:train_end]\n",
    "df_val   = df.iloc[train_end:val_end]\n",
    "df_test  = df.iloc[val_end:]\n",
    "\n",
    "print(f\"Train: {len(df_train)}, Val: {len(df_val)}, Test: {len(df_test)}\")\n",
    "\n",
    "# Optional: check date ranges\n",
    "print(\"Train until:\", df_train['iddim_date_inicio'].max())\n",
    "print(\"Val until:\", df_val['iddim_date_inicio'].max())\n",
    "print(\"Test until:\", df_test['iddim_date_inicio'].max())"
   ]
  },
  {
   "cell_type": "markdown",
   "id": "21a50131",
   "metadata": {},
   "source": [
    "# 🎯 Deliverables\n",
    "By the end of these exercises, you should have:\n",
    "1. A **data dictionary**.  \n",
    "2. Summary tables/plots of findings and key features.  \n",
    "3. A **feature schema JSON** with data types and constraints.  \n",
    "4. A **train/val/test split file** (e.g., `splits.json`) for reproducible downstream tasks.  "
   ]
  },
  {
   "cell_type": "markdown",
   "id": "c5ec284c",
   "metadata": {},
   "source": [
    "## Peer Validation\n",
    "  - Reproducible data loading (query or seed).  \n",
    "  - Clear schema with rationale per feature.  \n",
    "  - Split method documented and leakage-safe.  \n",
    "  - Artifacts present and versioned."
   ]
  },
  {
   "cell_type": "markdown",
   "id": "9f736fde",
   "metadata": {},
   "source": [
    "# 📊 Week 1 — Exploratory Data Analysis (EDA): Reading Guide\n",
    "\n",
    "**Learning Objectives (Week 1 – EDA)**  \n",
    "- Understand the motivation for MLOps and how EDA fits into a production ML lifecycle.  \n",
    "- Connect to Redshift and perform reproducible EDA.  \n",
    "- Document data quality issues and define target/feature schema.  \n",
    "- Prepare train/validation/test splits with leakage-aware methodology.  \n",
    "\n",
    "> **Context**: ZAP is targeting **MLOps Level 2**. Even EDA should be reproducible and versioned (data query, sampling, and preprocessing code committed).\n",
    "\n",
    "## 🔍 What is EDA and Why It Matters\n",
    "Exploratory Data Analysis (EDA) is the process of **exploring, visualizing, and validating datasets** before training models.  \n",
    "In **MLOps**, EDA is about much more than plots — it’s about **data reliability** and ensuring downstream pipelines are stable.\n",
    "\n",
    "**Why it matters for production:**\n",
    "- 🗑️ **Garbage in, garbage out** → poor data = poor models.  \n",
    "- ⚡ **Operational resilience** → detect defects early, before they hit production.  \n",
    "- 🔁 **Pipeline reliability** → schemas and checks from EDA become the foundation for automation.  \n",
    "\n",
    "\n",
    "## 📐 Data Quality Dimensions\n",
    "Checking data quality ensures your model won’t collapse when facing real-world inputs. Here are the key dimensions:\n",
    "\n",
    "| Dimension    | Question to Ask | Example Issue |\n",
    "|--------------|-----------------|---------------|\n",
    "| ✅ Completeness | Are required values present? | Missing customer age |\n",
    "| 🔄 Consistency | Do values follow expected formats/relations? | Country code \"PT\" inconsistently mapped |\n",
    "| 🎯 Accuracy | Are values correct? | Negative product price |\n",
    "| 🧩 Validity | Do values conform to rules/types? | Dates stored as free-text |\n",
    "| ⏱️ Timeliness | Is the data up to date? | Using last year’s sales for today’s forecast |\n",
    "\n",
    "\n",
    "## ⚠️ Leakage and Target Contamination\n",
    "- **Data leakage** → using information not available at prediction time.  \n",
    "- **Target contamination** → when the target leaks into features or data splits.  \n",
    "\n",
    "❌ Example leakage: Using \"credit approval status\" as a feature to predict loan approval.  \n",
    "❌ Example contamination: Randomly splitting time-series data, letting future events “leak” into training.\n",
    "\n",
    "➡️ Both lead to inflated metrics **during training** and catastrophic failures **in production**.\n",
    "\n",
    "\n",
    "## ♻️ Reproducibility\n",
    "Reproducibility = **same results given same inputs**. Essential for trust, debugging, and collaboration.\n",
    "\n",
    "Key practices:\n",
    "- 🎲 **Fixed seeds** → ensure reproducible sampling/splitting.  \n",
    "- 📑 **Deterministic queries** → e.g., always `ORDER BY id` in SQL.  \n",
    "- 🖥️ **Environment capture** → record Python & library versions, OS, hardware.  \n",
    "\n",
    "Without reproducibility → experiments can’t be compared, bugs can’t be traced.\n",
    "\n",
    "\n",
    "## 📦 Outputs That Feed the Pipeline\n",
    "EDA is not a one-off. Its **outputs become artifacts** for the ML pipeline:\n",
    "\n",
    "- 🗂️ **Feature schema** → defines types, ranges, categories, nullability.  \n",
    "- ✅ **Data checks** → rules like “no nulls in IDs” or “target is binary.”  \n",
    "- ✂️ **Split strategy** → deterministic, leakage-free train/val/test partitions.  \n",
    "\n",
    "These artifacts support:\n",
    "- Automation in CI/CD ✅  \n",
    "- Monitoring in production 📈  \n",
    "- MLOps Level 2 maturity ⚙️  \n",
    "\n",
    "---"
   ]
  },
  {
   "cell_type": "markdown",
   "id": "5daed676",
   "metadata": {},
   "source": [
    "# 📝 Exercises - Build the Dataset\n",
    "\n",
    "You should choose any dataset existing on Redshift to practice EDA, and gather relevant information to train your model.  \n",
    "Dataset example should contain customer demographics, services, account info, etc.\n",
    "\n",
    "\n",
    "## 🔧 Setup\n",
    "Use the function `load_data()` provided in file `data_io.py` snippet to create a dataset from `parquet` on S3 bucket or directly from `redshift`"
   ]
  },
  {
   "cell_type": "code",
   "execution_count": null,
   "id": "365b9c94",
   "metadata": {},
   "outputs": [],
   "source": [
    "#TODO"
   ]
  },
  {
   "cell_type": "markdown",
   "id": "5b73d89c",
   "metadata": {},
   "source": [
    "## 1. Data Overview & Metadata\n",
    "Inspect the dataset:\n",
    "- Number of rows and columns.  \n",
    "- Data types of each column.  \n",
    "- Identify categorical, numerical, and target.  "
   ]
  },
  {
   "cell_type": "code",
   "execution_count": null,
   "id": "22a1f4ee",
   "metadata": {},
   "outputs": [],
   "source": [
    "#TODO"
   ]
  },
  {
   "cell_type": "markdown",
   "id": "d753d30f",
   "metadata": {},
   "source": [
    "## 2. Data Quality Checks\n",
    "After identifying the tables you want to work on, a crucial step is to analyze their Data Quality using the following dimensions.\n",
    "Check the **5 quality dimensions** on this dataset:\n",
    "\n",
    "| Dimension    | Task |\n",
    "|--------------|------|\n",
    "| ✅ Completeness | Count missing/null values in each column. |\n",
    "| 🔄 Consistency | Look for inconsistent categories (e.g., “Male” vs. “male”). |\n",
    "| 🎯 Accuracy | Spot anomalies (e.g., negative charges). |\n",
    "| 🧩 Validity | Ensure logics are met. Ex: `TotalProfit ≈ n_units × unitary_profit`. |\n",
    "| ⏱️ Timeliness | Discuss whether tenure captures freshness of data. |"
   ]
  },
  {
   "cell_type": "code",
   "execution_count": null,
   "id": "c5328173",
   "metadata": {},
   "outputs": [],
   "source": [
    "#TODO"
   ]
  },
  {
   "cell_type": "markdown",
   "id": "e5e2e947",
   "metadata": {},
   "source": [
    "## 3. Target Variable Exploration\n",
    "- Plot the distribution of target table.  \n",
    "- Discuss if the dataset is **imbalanced** and what that implies for modeling."
   ]
  },
  {
   "cell_type": "code",
   "execution_count": null,
   "id": "82c0150d",
   "metadata": {},
   "outputs": [],
   "source": [
    "#TODO"
   ]
  },
  {
   "cell_type": "markdown",
   "id": "7014bbc8",
   "metadata": {},
   "source": [
    "## 4. Univariate Analysis\n",
    "- For numerical columns:  \n",
    "  - Plot histograms & boxplots.  \n",
    "  - Identify outliers and skewed distributions.  \n",
    "\n",
    "- For categorical columns:  \n",
    "  - Plot bar charts of category counts.  \n",
    "  - Check if categories have enough representation."
   ]
  },
  {
   "cell_type": "code",
   "execution_count": null,
   "id": "55a832e2",
   "metadata": {},
   "outputs": [],
   "source": [
    "#TODO"
   ]
  },
  {
   "cell_type": "markdown",
   "id": "e0066966",
   "metadata": {},
   "source": [
    "## 5. Bivariate Analysis\n",
    "- Compare target column across categorical columns :  \n",
    "\n",
    "- Compare target column across numerical features:  \n",
    "  - Ex: How does the values of a column grow proportinally and disproportionally in relation with another; Compare average column values for different target column values. "
   ]
  },
  {
   "cell_type": "code",
   "execution_count": null,
   "id": "f497f01b",
   "metadata": {},
   "outputs": [],
   "source": [
    "#TODO"
   ]
  },
  {
   "cell_type": "markdown",
   "id": "70f1a90d",
   "metadata": {},
   "source": [
    "## 7. Reproducibility Practices\n",
    "- Set a **random seed** when sampling rows for inspection.  \n",
    "- Save an **EDA profile report** .  \n",
    "- Export a **feature schema JSON** with column names, types, and allowed ranges/categories.  "
   ]
  },
  {
   "cell_type": "code",
   "execution_count": null,
   "id": "8997c649",
   "metadata": {},
   "outputs": [],
   "source": [
    "#TODO"
   ]
  },
  {
   "cell_type": "markdown",
   "id": "12b45b91",
   "metadata": {},
   "source": [
    "## 8. Train/Validation/Test Split Strategy\n",
    "- Propose and implement a split strategy:  \n",
    "  - Random stratified split by target column.  \n",
    "  - Ensure reproducibility with a fixed random seed.  \n",
    "  - Document why stratification is necessary here.  "
   ]
  },
  {
   "cell_type": "code",
   "execution_count": null,
   "id": "f22e4d96",
   "metadata": {},
   "outputs": [],
   "source": [
    "#TODO"
   ]
  },
  {
   "cell_type": "markdown",
   "id": "58b664b6",
   "metadata": {},
   "source": [
    "# 🎯 Deliverables\n",
    "By the end of these exercises, you should have:\n",
    "1. A **data dictionary**.  \n",
    "2. Summary tables/plots of findings and key features.  \n",
    "3. A **feature schema JSON** with data types and constraints.  \n",
    "4. A **train/val/test split file** (e.g., `splits.json`) for reproducible downstream tasks.  "
   ]
  },
  {
   "cell_type": "markdown",
   "id": "a929c796",
   "metadata": {},
   "source": [
    "## Peer Validation\n",
    "  - Reproducible data loading (query or seed).  \n",
    "  - Clear schema with rationale per feature.  \n",
    "  - Split method documented and leakage-safe.  \n",
    "  - Artifacts present and versioned."
   ]
  }
 ],
 "metadata": {
  "kernelspec": {
   "display_name": "py312",
   "language": "python",
   "name": "python3"
  },
  "language_info": {
   "codemirror_mode": {
    "name": "ipython",
    "version": 3
   },
   "file_extension": ".py",
   "mimetype": "text/x-python",
   "name": "python",
   "nbconvert_exporter": "python",
   "pygments_lexer": "ipython3",
   "version": "3.12.12"
  }
 },
 "nbformat": 4,
 "nbformat_minor": 5
}
