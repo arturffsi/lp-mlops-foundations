{
 "cells": [
  {
   "cell_type": "markdown",
   "id": "970f3958",
   "metadata": {},
   "source": [
    "# Week 3 — Experiment Tracking & Model Versioning (MLflow)"
   ]
  },
  {
   "cell_type": "markdown",
   "id": "ae361891",
   "metadata": {},
   "source": [
    "**Learning Objectives (Week 3 – Experiment Tracking & Versioning)**  \n",
    "- Track experiments, parameters, metrics, and artifacts with MLflow.  \n",
    "- Register models and manage versions.  \n",
    "- Enforce reproducibility for data references and code."
   ]
  },
  {
   "cell_type": "markdown",
   "id": "f123d0e6",
   "metadata": {},
   "source": [
    "## Exercises\n",
    "1. Configure MLflow tracking URI (local or remote).  \n",
    "2. Log parameters, metrics, artifacts, and models.  \n",
    "3. Compare runs and select a candidate model.  \n",
    "4. Register the model; tag it with data and code versions.  \n",
    "5. Export a run report to `artifacts/week3/`."
   ]
  },
  {
   "cell_type": "markdown",
   "id": "48971356",
   "metadata": {},
   "source": [
    "## Peer Validation\n",
    "- **Peer Review Checklist:**  \n",
    "  - Run metadata complete (params, metrics, artifacts).  \n",
    "  - Reproducible code + data version reference.  \n",
    "  - Registered model with meaningful tags."
   ]
  },
  {
   "cell_type": "code",
   "execution_count": null,
   "id": "34d10577",
   "metadata": {},
   "outputs": [],
   "source": [
    "# %pip install mlflow scikit-learn pandas --quiet\n",
    "import os, json, mlflow, pandas as pd, numpy as np\n",
    "from sklearn.model_selection import train_test_split\n",
    "from sklearn.linear_model import LogisticRegression\n",
    "from sklearn.metrics import roc_auc_score\n",
    "\n",
    "os.makedirs(\"artifacts/week3\", exist_ok=True)\n",
    "\n",
    "MLFLOW_TRACKING_URI = os.getenv(\"MLFLOW_TRACKING_URI\", \"file:artifacts/mlruns\")\n",
    "mlflow.set_tracking_uri(MLFLOW_TRACKING_URI)\n",
    "mlflow.set_experiment(\"zap_week3_experiments\")\n",
    "\n",
    "# Load features produced in Week 2 (or synthesize if missing)\n",
    "csv_path = \"artifacts/week2/features.csv\"\n",
    "if not os.path.exists(csv_path):\n",
    "    # fallback synthetic\n",
    "    n = 3000\n",
    "    df = pd.DataFrame({\n",
    "        \"amount\": np.random.gamma(2.0, 50.0, n),\n",
    "        \"country_ES\": np.random.randint(0,2,n),\n",
    "        \"country_FR\": np.random.randint(0,2,n),\n",
    "        \"country_DE\": np.random.randint(0,2,n),\n",
    "        \"channel_mobile\": np.random.randint(0,2,n),\n",
    "        \"channel_store\": np.random.randint(0,2,n),\n",
    "        \"label\": np.random.choice([0,1], size=n, p=[0.7,0.3])\n",
    "    })\n",
    "else:\n",
    "    df = pd.read_csv(csv_path)\n",
    "\n",
    "X = df.drop(columns=[\"label\"])\n",
    "y = df[\"label\"]\n",
    "X_train, X_test, y_train, y_test = train_test_split(X, y, test_size=0.25, random_state=42, stratify=y)\n",
    "\n",
    "with mlflow.start_run(run_name=\"logreg_baseline\") as run:\n",
    "    params = {\"C\":1.0, \"penalty\":\"l2\", \"solver\":\"lbfgs\", \"max_iter\":200}\n",
    "    mlflow.log_params(params)\n",
    "    clf = LogisticRegression(**params)\n",
    "    clf.fit(X_train, y_train)\n",
    "    preds = clf.predict_proba(X_test)[:,1]\n",
    "    auc = roc_auc_score(y_test, preds)\n",
    "    mlflow.log_metric(\"roc_auc\", float(auc))\n",
    "    # Log artifacts\n",
    "    os.makedirs(\"artifacts/week3\", exist_ok=True)\n",
    "    X_test.sample(5, random_state=42).to_csv(\"artifacts/week3/sample_inputs.csv\", index=False)\n",
    "    mlflow.log_artifact(\"artifacts/week3/sample_inputs.csv\")\n",
    "    # Log model\n",
    "    mlflow.sklearn.log_model(clf, \"model\", registered_model_name=\"zap_logreg_example\")\n",
    "    print(\"Run AUC:\", auc)\n",
    "    print(\"Run ID:\", run.info.run_id)"
   ]
  }
 ],
 "metadata": {
  "kernelspec": {
   "display_name": "Python 3",
   "language": "python",
   "name": "python3"
  },
  "language_info": {
   "name": "python",
   "version": "3.x"
  }
 },
 "nbformat": 4,
 "nbformat_minor": 5
}
