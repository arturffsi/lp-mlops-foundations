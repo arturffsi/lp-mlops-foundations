{
 "cells": [
  {
   "cell_type": "markdown",
   "id": "a6c61191",
   "metadata": {},
   "source": [
    "# Week 5 — Deployment on AWS SageMaker"
   ]
  },
  {
   "cell_type": "markdown",
   "id": "9838a39d",
   "metadata": {},
   "source": [
    "**Learning Objectives (Week 5 – Deployment on AWS SageMaker)**  \n",
    "- Package and deploy a model to a SageMaker endpoint.  \n",
    "- Verify contracts: input schema, output schema, performance (latency/QPS).  \n",
    "- Separate dev, pre-prod, prod deployments and promote safely."
   ]
  },
  {
   "cell_type": "markdown",
   "id": "381f3018",
   "metadata": {},
   "source": [
    "## Exercises\n",
    "1. Configure AWS credentials/role, region, S3 bucket.  \n",
    "2. Upload model artifacts and create a SageMaker model.  \n",
    "3. Deploy to a real-time endpoint; invoke and validate responses.  \n",
    "4. (Optional) Blue/green or canary deployment strategy for updates."
   ]
  },
  {
   "cell_type": "markdown",
   "id": "73675f08",
   "metadata": {},
   "source": [
    "## Peer Validation\n",
    "- **Peer Review Checklist:**  \n",
    "  - Endpoint created and reachable.  \n",
    "  - Test invocations logged with sample payloads.  \n",
    "  - Rollback plan articulated."
   ]
  },
  {
   "cell_type": "code",
   "execution_count": null,
   "id": "f7a1eb18",
   "metadata": {},
   "outputs": [],
   "source": [
    "# %pip install sagemaker boto3 --quiet\n",
    "import os, json, boto3\n",
    "\n",
    "# ---- Configuration (edit) ----\n",
    "AWS_REGION = os.getenv(\"AWS_REGION\",\"eu-west-1\")\n",
    "S3_BUCKET  = os.getenv(\"S3_BUCKET\",\"your-s3-bucket\")\n",
    "ROLE_ARN   = os.getenv(\"SM_ROLE_ARN\",\"arn:aws:iam::123456789012:role/SageMakerExecutionRole\")\n",
    "\n",
    "print(\"Edit AWS settings as needed. This is a scaffold for deployment code.\")"
   ]
  },
  {
   "cell_type": "code",
   "execution_count": null,
   "id": "43c9c273",
   "metadata": {},
   "outputs": [],
   "source": [
    "# Example scaffold using sagemaker SDK for a prebuilt sklearn container\n",
    "# NOTE: This is illustrative and won't run here without AWS credentials.\n",
    "from sagemaker.sklearn import SKLearnModel\n",
    "from sagemaker import Session\n",
    "\n",
    "sm_sess = Session()\n",
    "model_artifact = \"s3://{}/models/logreg/model.tar.gz\".format(os.getenv(\"S3_BUCKET\",\"your-s3-bucket\"))\n",
    "\n",
    "sk_model = SKLearnModel(\n",
    "    model_data=model_artifact,\n",
    "    role=os.getenv(\"SM_ROLE_ARN\",\"arn:aws:iam::123456789012:role/SageMakerExecutionRole\"),\n",
    "    entry_point=\"inference.py\",  # Provide script with input/output handling\n",
    "    framework_version=\"1.2-1\",\n",
    "    py_version=\"py3\",\n",
    "    sagemaker_session=sm_sess\n",
    ")\n",
    "\n",
    "predictor = sk_model.deploy(\n",
    "    initial_instance_count=1,\n",
    "    instance_type=\"ml.t2.medium\",\n",
    "    endpoint_name=\"zap-logreg-dev\"\n",
    ")\n",
    "\n",
    "# Example invocation (JSON payload)\n",
    "# response = predictor.predict({\"instances\":[[0.1,0.2,0,1,0,1]]})\n",
    "# print(response)"
   ]
  }
 ],
 "metadata": {
  "kernelspec": {
   "display_name": "Python 3",
   "language": "python",
   "name": "python3"
  },
  "language_info": {
   "name": "python",
   "version": "3.x"
  }
 },
 "nbformat": 4,
 "nbformat_minor": 5
}
