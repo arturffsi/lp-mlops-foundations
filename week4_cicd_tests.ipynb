{
 "cells": [
  {
   "cell_type": "markdown",
   "id": "cc623616",
   "metadata": {},
   "source": [
    "# Week 4 — CI/CD & Test Coverage"
   ]
  },
  {
   "cell_type": "markdown",
   "id": "e60a6a67",
   "metadata": {},
   "source": [
    "**Learning Objectives (Week 4 – CI/CD & Test Coverage)**  \n",
    "- Create tests for data and training code.  \n",
    "- Package pipeline components and set up CI to run tests on push/PR.  \n",
    "- Understand dev/pre-prod/prod promotion."
   ]
  },
  {
   "cell_type": "markdown",
   "id": "61553ce5",
   "metadata": {},
   "source": [
    "## Exercises\n",
    "1. Write unit tests for ETL and simple model training.  \n",
    "2. Generate a minimal GitHub Actions (or similar) workflow file.  \n",
    "3. Produce a coverage report and enforce a basic threshold (e.g., 60%).  \n",
    "4. Build a container image locally (optional) and validate entrypoints."
   ]
  },
  {
   "cell_type": "markdown",
   "id": "5c0ee1e9",
   "metadata": {},
   "source": [
    "## Peer Validation\n",
    "- **Peer Review Checklist:**  \n",
    "  - Tests run locally and pass.  \n",
    "  - CI workflow defined and green.  \n",
    "  - Coverage report generated and stored as artifact."
   ]
  },
  {
   "cell_type": "code",
   "execution_count": null,
   "id": "6c2962a5",
   "metadata": {},
   "outputs": [],
   "source": [
    "# Create example test files and a minimal GitHub Actions workflow from the notebook for illustration.\n",
    "import os, textwrap, json, pathlib\n",
    "\n",
    "os.makedirs(\"artifacts/week4\", exist_ok=True)\n",
    "os.makedirs(\"pipelines\", exist_ok=True)\n",
    "os.makedirs(\".github/workflows\", exist_ok=True)\n",
    "os.makedirs(\"tests\", exist_ok=True)\n",
    "\n",
    "# Simple training function to test\n",
    "train_py = '''\n",
    "import pandas as pd\n",
    "from sklearn.linear_model import LogisticRegression\n",
    "\n",
    "def train_model(df: pd.DataFrame):\n",
    "    X = df.drop(columns=[\"label\"])\n",
    "    y = df[\"label\"]\n",
    "    clf = LogisticRegression(max_iter=100).fit(X, y)\n",
    "    return clf\n",
    "'''\n",
    "open(\"pipelines/train.py\",\"w\").write(train_py)\n",
    "\n",
    "# A simple test\n",
    "test_py = '''\n",
    "import pandas as pd\n",
    "from pipelines.train import train_model\n",
    "\n",
    "def test_train_model_shapes():\n",
    "    df = pd.DataFrame({\n",
    "        \"x1\":[0,1,0,1],\n",
    "        \"x2\":[1,0,1,0],\n",
    "        \"label\":[0,1,0,1]\n",
    "    })\n",
    "    model = train_model(df)\n",
    "    assert hasattr(model, \"predict\")\n",
    "'''\n",
    "open(\"tests/test_train.py\",\"w\").write(test_py)\n",
    "\n",
    "workflow = f'''\n",
    "name: ML CI\n",
    "\n",
    "on:\n",
    "  push:\n",
    "  pull_request:\n",
    "\n",
    "jobs:\n",
    "  test:\n",
    "    runs-on: ubuntu-latest\n",
    "    steps:\n",
    "      - uses: actions/checkout@v4\n",
    "      - uses: actions/setup-python@v5\n",
    "        with:\n",
    "          python-version: \"3.10\"\n",
    "      - name: Install deps\n",
    "        run: |\n",
    "          python -m pip install --upgrade pip\n",
    "          pip install pytest scikit-learn pandas\n",
    "      - name: Run tests\n",
    "        run: pytest -q\n",
    "'''\n",
    "open(\".github/workflows/ml-ci.yml\",\"w\").write(workflow)\n",
    "\n",
    "print(\"Wrote sample tests and CI workflow to the workspace.\")"
   ]
  }
 ],
 "metadata": {
  "kernelspec": {
   "display_name": "Python 3",
   "language": "python",
   "name": "python3"
  },
  "language_info": {
   "name": "python",
   "version": "3.x"
  }
 },
 "nbformat": 4,
 "nbformat_minor": 5
}
