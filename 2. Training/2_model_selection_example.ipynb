{
 "cells": [
  {
   "cell_type": "markdown",
   "id": "a52edf4a",
   "metadata": {},
   "source": [
    "# 🚀 CatBoost Training & Threshold Tuning\n",
    "\n",
    "**Purpose:** Train a CatBoost model and learn how to tune the classification threshold to achieve target recall.\n",
    "\n",
    "> This notebook shows:\n",
    "> - How to train CatBoost for churn prediction\n",
    "> - How changing the threshold affects Precision vs Recall\n",
    "> - How to find the optimal threshold for your business goal"
   ]
  },
  {
   "cell_type": "markdown",
   "id": "a271b2c2",
   "metadata": {},
   "source": [
    "## 📦 What You'll Learn\n",
    "- Load prepared data from the previous notebook\n",
    "- Train a CatBoost classifier\n",
    "- Understand the **Precision-Recall tradeoff**\n",
    "- Tune the threshold to achieve target recall (e.g., 80%)\n",
    "- Save the trained model for deployment"
   ]
  },
  {
   "cell_type": "markdown",
   "id": "c94c57a3",
   "metadata": {},
   "source": [
    "## 🧰 Prerequisites\n",
    "- Python 3.9+\n",
    "- Packages: `pandas`, `numpy`, `catboost`, `scikit-learn`, `matplotlib`\n",
    "\n",
    "```bash\n",
    "# Install if needed:\n",
    "pip install pandas numpy catboost scikit-learn matplotlib\n",
    "```"
   ]
  },
  {
   "cell_type": "markdown",
   "id": "2a971422",
   "metadata": {},
   "source": [
    "## ♻️ Reproducibility & Environment Capture\n",
    "- **Fixed seeds** for determinism\n",
    "- Save **package versions** and run metadata\n",
    "- Unique **artifact run folder**\n"
   ]
  },
  {
   "cell_type": "code",
   "execution_count": 1,
   "id": "703293aa",
   "metadata": {},
   "outputs": [
    {
     "name": "stdout",
     "output_type": "stream",
     "text": [
      "Seed: 42 | Artifacts: artifacts/model_training_20251016T185541Z\n"
     ]
    }
   ],
   "source": [
    "import os\n",
    "import numpy as np\n",
    "import pandas as pd\n",
    "from datetime import datetime, UTC\n",
    "\n",
    "# Set random seed for reproducibility\n",
    "SEED = 42\n",
    "np.random.seed(SEED)\n",
    "\n",
    "# Create artifact directory\n",
    "RUN_TS = datetime.now(UTC).strftime(\"%Y%m%dT%H%M%SZ\")\n",
    "ARTIFACT_DIR = f\"artifacts/model_training_{RUN_TS}\"\n",
    "os.makedirs(ARTIFACT_DIR, exist_ok=True)\n",
    "\n",
    "print(f\"Seed: {SEED} | Artifacts: {ARTIFACT_DIR}\")"
   ]
  },
  {
   "cell_type": "code",
   "execution_count": 2,
   "id": "c7lc1gh7l5f",
   "metadata": {},
   "outputs": [
    {
     "name": "stdout",
     "output_type": "stream",
     "text": [
      "Libraries imported successfully\n"
     ]
    }
   ],
   "source": [
    "# Import required libraries\n",
    "from sklearn.metrics import (\n",
    "    roc_auc_score, \n",
    "    average_precision_score, \n",
    "    precision_recall_curve,\n",
    "    precision_score,\n",
    "    recall_score,\n",
    "    f1_score\n",
    ")\n",
    "import matplotlib.pyplot as plt\n",
    "\n",
    "print(\"Libraries imported successfully\")"
   ]
  },
  {
   "cell_type": "markdown",
   "id": "13119ecc",
   "metadata": {},
   "source": [
    "## ⚙️ Configuration\n",
    "Edit **only here** to switch sources and behavior.\n"
   ]
  },
  {
   "cell_type": "code",
   "execution_count": 3,
   "id": "b9302098",
   "metadata": {},
   "outputs": [
    {
     "name": "stdout",
     "output_type": "stream",
     "text": [
      "✓ Config loaded | Target recall: 80%\n"
     ]
    }
   ],
   "source": [
    "# Configuration\n",
    "CONFIG = {\n",
    "    # Data paths\n",
    "    \"train_data\": \"artifacts/run_*/train.parquet\",\n",
    "    \"val_data\": \"artifacts/run_*/val.parquet\",\n",
    "    \n",
    "    # Target\n",
    "    \"target_col\": \"churn\",\n",
    "    \n",
    "    # ID features to drop\n",
    "    \"id_features\": [\"idconsumo\", \"codigocontaservico\", \"idconta\", \"iddim_cliente\", \n",
    "                   \"idcliente\", \"codigocliente\", \"iddim_conta\", \"codigoconta\"],\n",
    "    \n",
    "    # Model hyperparameters\n",
    "    \"iterations\": 500,\n",
    "    \"learning_rate\": 0.08,\n",
    "    \"depth\": 6,\n",
    "    \"l2_leaf_reg\": 5.0,\n",
    "    \"random_seed\": SEED,\n",
    "    \n",
    "    # Target recall for threshold tuning\n",
    "    \"target_recall\": 0.80\n",
    "}\n",
    "\n",
    "print(f\"✓ Config loaded | Target recall: {CONFIG['target_recall']:.0%}\")"
   ]
  },
  {
   "cell_type": "markdown",
   "id": "b1feaed6",
   "metadata": {},
   "source": [
    "## 📥 Load Data\n",
    "Load data generated from data_preparation_example.ipynb"
   ]
  },
  {
   "cell_type": "code",
   "execution_count": 4,
   "id": "c58f6524",
   "metadata": {},
   "outputs": [
    {
     "name": "stdout",
     "output_type": "stream",
     "text": [
      "Train: (80000, 58) | Churn rate: 34.5%\n",
      "Val:   (10000, 58) | Churn rate: 11.6%\n"
     ]
    }
   ],
   "source": [
    "import glob\n",
    "\n",
    "# Find the latest data from previous notebook\n",
    "train_files = sorted(glob.glob(\"artifacts/run_*/train.parquet\"))\n",
    "val_files = sorted(glob.glob(\"artifacts/run_*/val.parquet\"))\n",
    "\n",
    "# Load most recent data\n",
    "train_df = pd.read_parquet(train_files[-1])\n",
    "val_df = pd.read_parquet(val_files[-1])\n",
    "\n",
    "print(f\"Train: {train_df.shape} | Churn rate: {train_df['churn'].mean():.1%}\")\n",
    "print(f\"Val:   {val_df.shape} | Churn rate: {val_df['churn'].mean():.1%}\")"
   ]
  },
  {
   "cell_type": "markdown",
   "id": "fc4e3b7c",
   "metadata": {},
   "source": [
    "## 🔎 Quick Profile"
   ]
  },
  {
   "cell_type": "code",
   "execution_count": 5,
   "id": "7161dfb2",
   "metadata": {},
   "outputs": [
    {
     "name": "stdout",
     "output_type": "stream",
     "text": [
      "Features: 57\n",
      "Samples: 80,000 train, 10,000 val\n",
      "Feature types: 44 numeric, 10 categorical\n"
     ]
    }
   ],
   "source": [
    "# Quick data overview\n",
    "print(f\"Features: {train_df.shape[1] - 1}\")\n",
    "print(f\"Samples: {len(train_df):,} train, {len(val_df):,} val\")\n",
    "\n",
    "# Count feature types\n",
    "n_numeric = len(train_df.select_dtypes(include=[np.number]).columns) - 1  # exclude target\n",
    "n_categorical = len(train_df.select_dtypes(include=['object']).columns)\n",
    "\n",
    "print(f\"Feature types: {n_numeric} numeric, {n_categorical} categorical\")"
   ]
  },
  {
   "cell_type": "markdown",
   "id": "4bbf9f5e",
   "metadata": {},
   "source": [
    "## 🔧 Prepare Data for CatBoost\n",
    "CatBoost can handle categorical features natively - we just need to identify them"
   ]
  },
  {
   "cell_type": "code",
   "execution_count": 6,
   "id": "c75d39cf",
   "metadata": {},
   "outputs": [
    {
     "name": "stdout",
     "output_type": "stream",
     "text": [
      "✓ Ready: 46 features (9 categorical)\n"
     ]
    }
   ],
   "source": [
    "from catboost import Pool\n",
    "\n",
    "# Drop ID features\n",
    "id_cols = [col for col in CONFIG['id_features'] if col in train_df.columns]\n",
    "train_df = train_df.drop(columns=id_cols)\n",
    "val_df = val_df.drop(columns=id_cols)\n",
    "\n",
    "# Separate features and target\n",
    "X_train = train_df.drop(columns=['churn'])\n",
    "y_train = train_df['churn'].values\n",
    "X_val = val_df.drop(columns=['churn'])\n",
    "y_val = val_df['churn'].values\n",
    "\n",
    "# Drop datetime columns (CatBoost can't handle them)\n",
    "datetime_cols = X_train.select_dtypes(include=['datetime64']).columns.tolist()\n",
    "X_train = X_train.drop(columns=datetime_cols)\n",
    "X_val = X_val.drop(columns=datetime_cols)\n",
    "\n",
    "# Find categorical features\n",
    "cat_features = X_train.select_dtypes(include=['object']).columns.tolist()\n",
    "cat_indices = [X_train.columns.get_loc(col) for col in cat_features]\n",
    "\n",
    "# Fill missing values in categorical columns\n",
    "for col in cat_features:\n",
    "    X_train[col] = X_train[col].fillna('<MISSING>')\n",
    "    X_val[col] = X_val[col].fillna('<MISSING>')\n",
    "\n",
    "# Create CatBoost Pools\n",
    "train_pool = Pool(X_train, y_train, cat_features=cat_indices)\n",
    "val_pool = Pool(X_val, y_val, cat_features=cat_indices)\n",
    "\n",
    "print(f\"✓ Ready: {X_train.shape[1]} features ({len(cat_features)} categorical)\")"
   ]
  },
  {
   "cell_type": "markdown",
   "id": "f5e81f92",
   "metadata": {},
   "source": [
    "## 🤖 Train CatBoost Model\n",
    "Using hyperparameters from production config"
   ]
  },
  {
   "cell_type": "code",
   "execution_count": 7,
   "id": "4f3c2df2",
   "metadata": {},
   "outputs": [
    {
     "name": "stdout",
     "output_type": "stream",
     "text": [
      "Training CatBoost...\n",
      "\n",
      "0:\tlearn: 0.5502944\ttest: 0.2393833\tbest: 0.2393833 (0)\ttotal: 114ms\tremaining: 56.6s\n",
      "100:\tlearn: 0.6280218\ttest: 0.2943208\tbest: 0.2943524 (78)\ttotal: 4.96s\tremaining: 19.6s\n",
      "Stopped by overfitting detector  (50 iterations wait)\n",
      "\n",
      "bestTest = 0.2958524368\n",
      "bestIteration = 129\n",
      "\n",
      "Shrink model to first 130 iterations.\n",
      "\n",
      "✓ Training complete! Best iteration: 129\n",
      "\n",
      "📊 CatBoost @ 80% recall:\n",
      "  ROC-AUC: 0.766\n",
      "  Threshold: 0.251\n",
      "  Precision: 0.204\n",
      "  F1: 0.325\n"
     ]
    }
   ],
   "source": [
    "from catboost import CatBoostClassifier\n",
    "\n",
    "# Create model\n",
    "catboost_model = CatBoostClassifier(\n",
    "    iterations=CONFIG['iterations'],\n",
    "    learning_rate=CONFIG['learning_rate'],\n",
    "    depth=CONFIG['depth'],\n",
    "    l2_leaf_reg=CONFIG['l2_leaf_reg'],\n",
    "    random_seed=CONFIG['random_seed'],\n",
    "    verbose=100,\n",
    "    loss_function='Logloss',\n",
    "    eval_metric='PRAUC'\n",
    ")\n",
    "\n",
    "print(\"Training CatBoost...\\n\")\n",
    "\n",
    "# Train with early stopping\n",
    "catboost_model.fit(\n",
    "    train_pool,\n",
    "    eval_set=val_pool,\n",
    "    use_best_model=True,\n",
    "    early_stopping_rounds=50\n",
    ")\n",
    "\n",
    "print(f\"\\n✓ Training complete! Best iteration: {catboost_model.get_best_iteration()}\")\n",
    "\n",
    "# Get predictions\n",
    "y_val_proba_cb = catboost_model.predict_proba(val_pool)[:, 1]\n",
    "\n",
    "# Calculate metrics\n",
    "roc_auc_cb = roc_auc_score(y_val, y_val_proba_cb)\n",
    "pr_auc_cb = average_precision_score(y_val, y_val_proba_cb)\n",
    "\n",
    "# Find threshold for target recall (80%)\n",
    "precisions_cb, recalls_cb, thresholds_cb = precision_recall_curve(y_val, y_val_proba_cb)\n",
    "idx = np.where(recalls_cb[:-1] >= CONFIG['target_recall'])[0][-1]\n",
    "best_threshold_cb = thresholds_cb[idx]\n",
    "best_recall_cb = recalls_cb[idx]\n",
    "best_precision_cb = precisions_cb[idx]\n",
    "best_f1_cb = 2 * best_precision_cb * best_recall_cb / (best_precision_cb + best_recall_cb)\n",
    "\n",
    "print(f\"\\n📊 CatBoost @ {CONFIG['target_recall']:.0%} recall:\")\n",
    "print(f\"  ROC-AUC: {roc_auc_cb:.3f}\")\n",
    "print(f\"  Threshold: {best_threshold_cb:.3f}\")\n",
    "print(f\"  Precision: {best_precision_cb:.3f}\")\n",
    "print(f\"  F1: {best_f1_cb:.3f}\")"
   ]
  },
  {
   "cell_type": "markdown",
   "id": "6ffc1d34",
   "metadata": {},
   "source": [
    "## 🆚 Compare with XGBoost\n",
    "\n",
    "Let's train an XGBoost model and compare it with CatBoost.\n",
    "\n",
    "**Note:** Modern XGBoost (v1.6+) can handle categorical features natively, just like CatBoost!"
   ]
  },
  {
   "cell_type": "code",
   "execution_count": 8,
   "id": "41035f35",
   "metadata": {},
   "outputs": [
    {
     "name": "stdout",
     "output_type": "stream",
     "text": [
      "Training XGBoost with native categorical support...\n",
      "\n",
      "[0]\tvalidation_0-aucpr:0.25124\n",
      "[66]\tvalidation_0-aucpr:0.26172\n",
      "\n",
      "✓ Training complete!\n",
      "\n",
      "📊 XGBoost @ 80% recall:\n",
      "  ROC-AUC: 0.754\n",
      "  Threshold: 0.305\n",
      "  Precision: 0.197\n",
      "  F1: 0.316\n"
     ]
    }
   ],
   "source": [
    "import xgboost as xgb\n",
    "\n",
    "# Prepare data for XGBoost - convert categorical to 'category' dtype\n",
    "X_train_xgb = X_train.copy()\n",
    "X_val_xgb = X_val.copy()\n",
    "\n",
    "for col in cat_features:\n",
    "    X_train_xgb[col] = X_train_xgb[col].astype('category')\n",
    "    X_val_xgb[col] = X_val_xgb[col].astype('category')\n",
    "\n",
    "print(\"Training XGBoost with native categorical support...\\n\")\n",
    "\n",
    "# Train XGBoost\n",
    "xgb_model = xgb.XGBClassifier(\n",
    "    n_estimators=CONFIG['iterations'],\n",
    "    learning_rate=CONFIG['learning_rate'],\n",
    "    max_depth=CONFIG['depth'],\n",
    "    reg_lambda=CONFIG['l2_leaf_reg'],\n",
    "    random_state=CONFIG['random_seed'],\n",
    "    eval_metric='aucpr',\n",
    "    early_stopping_rounds=50,\n",
    "    enable_categorical=True\n",
    ")\n",
    "\n",
    "xgb_model.fit(\n",
    "    X_train_xgb, y_train,\n",
    "    eval_set=[(X_val_xgb, y_val)],\n",
    "    verbose=100\n",
    ")\n",
    "\n",
    "print(\"\\n✓ Training complete!\")\n",
    "\n",
    "# Get predictions\n",
    "y_val_proba_xgb = xgb_model.predict_proba(X_val_xgb)[:, 1]\n",
    "\n",
    "# Calculate metrics\n",
    "roc_auc_xgb = roc_auc_score(y_val, y_val_proba_xgb)\n",
    "pr_auc_xgb = average_precision_score(y_val, y_val_proba_xgb)\n",
    "\n",
    "# Find threshold for target recall (80%)\n",
    "precisions_xgb, recalls_xgb, thresholds_xgb = precision_recall_curve(y_val, y_val_proba_xgb)\n",
    "idx = np.where(recalls_xgb[:-1] >= CONFIG['target_recall'])[0][-1]\n",
    "best_threshold_xgb = thresholds_xgb[idx]\n",
    "best_recall_xgb = recalls_xgb[idx]\n",
    "best_precision_xgb = precisions_xgb[idx]\n",
    "best_f1_xgb = 2 * best_precision_xgb * best_recall_xgb / (best_precision_xgb + best_recall_xgb)\n",
    "\n",
    "print(f\"\\n📊 XGBoost @ {CONFIG['target_recall']:.0%} recall:\")\n",
    "print(f\"  ROC-AUC: {roc_auc_xgb:.3f}\")\n",
    "print(f\"  Threshold: {best_threshold_xgb:.3f}\")\n",
    "print(f\"  Precision: {best_precision_xgb:.3f}\")\n",
    "print(f\"  F1: {best_f1_xgb:.3f}\")"
   ]
  },
  {
   "cell_type": "markdown",
   "id": "6f31b9af",
   "metadata": {},
   "source": [
    "## 🏅 Select Best Model & Export Artifacts"
   ]
  },
  {
   "cell_type": "code",
   "execution_count": 9,
   "id": "13b8aebf",
   "metadata": {},
   "outputs": [
    {
     "name": "stdout",
     "output_type": "stream",
     "text": [
      "   Model  ROC-AUC   PR-AUC  Precision  Recall       F1  Threshold\n",
      "CatBoost 0.766017 0.296448   0.204091     0.8 0.325215   0.250576\n",
      " XGBoost 0.754298 0.278633   0.196527     0.8 0.315539   0.304918\n",
      "\n",
      "🏆 Winner: CatBoost\n"
     ]
    },
    {
     "data": {
      "image/png": "[encoded data removed]",
      "text/plain": [
       "<Figure size 1200x400 with 2 Axes>"
      ]
     },
     "metadata": {},
     "output_type": "display_data"
    },
    {
     "name": "stdout",
     "output_type": "stream",
     "text": [
      "\n",
      "✅ Selected CatBoost for deployment\n"
     ]
    }
   ],
   "source": [
    "# Compare models\n",
    "comparison = pd.DataFrame({\n",
    "    'Model': ['CatBoost', 'XGBoost'],\n",
    "    'ROC-AUC': [roc_auc_cb, roc_auc_xgb],\n",
    "    'PR-AUC': [pr_auc_cb, pr_auc_xgb],\n",
    "    'Precision': [best_precision_cb, best_precision_xgb],\n",
    "    'Recall': [best_recall_cb, best_recall_xgb],\n",
    "    'F1': [best_f1_cb, best_f1_xgb],\n",
    "    'Threshold': [best_threshold_cb, best_threshold_xgb]\n",
    "})\n",
    "\n",
    "print(comparison.to_string(index=False))\n",
    "\n",
    "# Select winner based on ROC-AUC\n",
    "winner = \"CatBoost\" if roc_auc_cb >= roc_auc_xgb else \"XGBoost\"\n",
    "print(f\"\\n🏆 Winner: {winner}\")\n",
    "\n",
    "# Visualize comparison\n",
    "fig, axes = plt.subplots(1, 2, figsize=(12, 4))\n",
    "\n",
    "# Bar chart\n",
    "metrics = ['ROC-AUC', 'PR-AUC', 'F1']\n",
    "x = np.arange(len(metrics))\n",
    "width = 0.35\n",
    "\n",
    "axes[0].bar(x - width/2, [roc_auc_cb, pr_auc_cb, best_f1_cb], width, label='CatBoost')\n",
    "axes[0].bar(x + width/2, [roc_auc_xgb, pr_auc_xgb, best_f1_xgb], width, label='XGBoost')\n",
    "axes[0].set_ylabel('Score')\n",
    "axes[0].set_title('Model Performance')\n",
    "axes[0].set_xticks(x)\n",
    "axes[0].set_xticklabels(metrics)\n",
    "axes[0].legend()\n",
    "axes[0].grid(alpha=0.3)\n",
    "\n",
    "# Precision-Recall curves\n",
    "axes[1].plot(recalls_cb[:-1], precisions_cb[:-1], label='CatBoost', linewidth=2)\n",
    "axes[1].plot(recalls_xgb[:-1], precisions_xgb[:-1], label='XGBoost', linewidth=2)\n",
    "axes[1].scatter([best_recall_cb], [best_precision_cb], s=100, marker='*', label='Target recall')\n",
    "axes[1].axvline(CONFIG['target_recall'], color='gray', linestyle='--', alpha=0.5)\n",
    "axes[1].set_xlabel('Recall')\n",
    "axes[1].set_ylabel('Precision')\n",
    "axes[1].set_title('Precision-Recall Curves')\n",
    "axes[1].legend()\n",
    "axes[1].grid(alpha=0.3)\n",
    "\n",
    "plt.tight_layout()\n",
    "plt.show()\n",
    "\n",
    "# Select best model for saving\n",
    "if winner == \"CatBoost\":\n",
    "    best_model = catboost_model\n",
    "    best_threshold = best_threshold_cb\n",
    "else:\n",
    "    best_model = xgb_model\n",
    "    best_threshold = best_threshold_xgb\n",
    "\n",
    "print(f\"\\n✅ Selected {winner} for deployment\")"
   ]
  },
  {
   "cell_type": "markdown",
   "id": "c809f7e9",
   "metadata": {},
   "source": [
    "## 💾 Save Best Model & Artifacts"
   ]
  },
  {
   "cell_type": "code",
   "execution_count": 10,
   "id": "fa42d446",
   "metadata": {},
   "outputs": [
    {
     "name": "stdout",
     "output_type": "stream",
     "text": [
      "✓ Model saved: artifacts/model_training_20251016T185541Z/model.pkl\n",
      "\n",
      "Top 10 most important features:\n",
      "              feature  importance\n",
      "          past_churns   19.287278\n",
      "  tipo_produto_actual   17.254043\n",
      "      contract_number    8.829119\n",
      "    topup_total_value    8.462627\n",
      "gap_since_prev_expiry    8.158171\n",
      "     n_prev_contracts    7.761852\n",
      "    contract_len_days    7.315990\n",
      "    n_dias_subscricao    4.338540\n",
      "       topup_cv_value    2.933649\n",
      "          tenure_days    1.782685\n",
      "\n",
      "✓ Feature importance saved: artifacts/model_training_20251016T185541Z/feature_importance.csv\n"
     ]
    }
   ],
   "source": [
    "import pickle\n",
    "\n",
    "# Save the winning model\n",
    "model_path = os.path.join(ARTIFACT_DIR, \"model.pkl\")\n",
    "with open(model_path, 'wb') as f:\n",
    "    pickle.dump(best_model, f)\n",
    "\n",
    "print(f\"✓ Model saved: {model_path}\")\n",
    "\n",
    "# Save feature importance\n",
    "if winner == \"CatBoost\":\n",
    "    importance = best_model.get_feature_importance()\n",
    "else:\n",
    "    importance = best_model.feature_importances_\n",
    "\n",
    "feature_importance = pd.DataFrame({\n",
    "    'feature': X_train.columns,\n",
    "    'importance': importance\n",
    "}).sort_values('importance', ascending=False)\n",
    "\n",
    "print(f\"\\nTop 10 most important features:\")\n",
    "print(feature_importance.head(10).to_string(index=False))\n",
    "\n",
    "# Save to file\n",
    "fi_path = os.path.join(ARTIFACT_DIR, \"feature_importance.csv\")\n",
    "feature_importance.to_csv(fi_path, index=False)\n",
    "print(f\"\\n✓ Feature importance saved: {fi_path}\")"
   ]
  },
  {
   "cell_type": "markdown",
   "id": "6b336d9c",
   "metadata": {},
   "source": [
    "## 🔬 Bonus: Check for Overfitting\n",
    "\n",
    "Let's check if the best model generalizes well"
   ]
  },
  {
   "cell_type": "code",
   "execution_count": 11,
   "id": "26cpx6nzq66",
   "metadata": {},
   "outputs": [
    {
     "name": "stdout",
     "output_type": "stream",
     "text": [
      "Overfitting check for CatBoost:\n",
      "\n",
      "ROC-AUC: Train=0.775, Val=0.766, Diff=0.009\n",
      "F1:      Train=0.616, Val=0.325, Diff=0.291\n",
      "\n",
      "✓ Model generalizes well\n"
     ]
    }
   ],
   "source": [
    "# Check for overfitting by comparing train vs validation performance\n",
    "print(f\"Overfitting check for {winner}:\\n\")\n",
    "\n",
    "# Get predictions on training set\n",
    "if winner == \"CatBoost\":\n",
    "    y_train_proba = best_model.predict_proba(train_pool)[:, 1]\n",
    "else:\n",
    "    y_train_proba = best_model.predict_proba(X_train_xgb)[:, 1]\n",
    "\n",
    "# Calculate train metrics\n",
    "train_roc = roc_auc_score(y_train, y_train_proba)\n",
    "y_train_pred = (y_train_proba >= best_threshold).astype(int)\n",
    "train_f1 = f1_score(y_train, y_train_pred)\n",
    "\n",
    "# Compare with validation\n",
    "val_roc = roc_auc_cb if winner == \"CatBoost\" else roc_auc_xgb\n",
    "val_f1 = best_f1_cb if winner == \"CatBoost\" else best_f1_xgb\n",
    "\n",
    "print(f\"ROC-AUC: Train={train_roc:.3f}, Val={val_roc:.3f}, Diff={train_roc-val_roc:.3f}\")\n",
    "print(f\"F1:      Train={train_f1:.3f}, Val={val_f1:.3f}, Diff={train_f1-val_f1:.3f}\")\n",
    "\n",
    "# Interpretation\n",
    "if train_roc - val_roc > 0.05:\n",
    "    print(\"\\n⚠️ Warning: Model may be overfitting (train >> val)\")\n",
    "else:\n",
    "    print(\"\\n✓ Model generalizes well\")"
   ]
  },
  {
   "cell_type": "code",
   "execution_count": null,
   "id": "c137ebdf",
   "metadata": {},
   "outputs": [
    {
     "name": "stdout",
     "output_type": "stream",
     "text": [
      "MLflow logging disabled\n"
     ]
    }
   ],
   "source": [
    "# Optional: Log to MLflow (set to True to enable)\n",
    "USE_MLFLOW = False\n",
    "\n",
    "if USE_MLFLOW:\n",
    "    import mlflow\n",
    "    \n",
    "    mlflow.set_experiment(\"churn-model-comparison\")\n",
    "    \n",
    "    with mlflow.start_run():\n",
    "        # Log hyperparameters\n",
    "        mlflow.log_params({\n",
    "            'iterations': CONFIG['iterations'],\n",
    "            'learning_rate': CONFIG['learning_rate'],\n",
    "            'depth': CONFIG['depth'],\n",
    "            'model': winner\n",
    "        })\n",
    "        \n",
    "        # Log metrics\n",
    "        mlflow.log_metric('roc_auc', val_roc)\n",
    "        mlflow.log_metric('f1', val_f1)\n",
    "        mlflow.log_metric('threshold', best_threshold)\n",
    "        \n",
    "        # Log model\n",
    "        mlflow.sklearn.log_model(best_model, \"model\")\n",
    "        \n",
    "        print(\"✓ Logged to MLflow\")\n",
    "else:\n",
    "    print(\"MLflow logging disabled\")"
   ]
  }
 ],
 "metadata": {
  "kernelspec": {
   "display_name": "py312",
   "language": "python",
   "name": "python3"
  },
  "language_info": {
   "codemirror_mode": {
    "name": "ipython",
    "version": 3
   },
   "file_extension": ".py",
   "mimetype": "text/x-python",
   "name": "python",
   "nbconvert_exporter": "python",
   "pygments_lexer": "ipython3",
   "version": "3.12.12"
  }
 },
 "nbformat": 4,
 "nbformat_minor": 5
}
